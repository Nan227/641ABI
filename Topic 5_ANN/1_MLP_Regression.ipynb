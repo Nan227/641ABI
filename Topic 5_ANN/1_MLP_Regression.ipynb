{
 "cells": [
  {
   "cell_type": "code",
   "execution_count": 1,
   "metadata": {},
   "outputs": [],
   "source": [
    "import matplotlib.pyplot as plt\n",
    "import numpy as np\n",
    "import pandas as pd\n",
    "\n",
    "import tensorflow as tf\n"
   ]
  },
  {
   "cell_type": "markdown",
   "metadata": {},
   "source": [
    "# Data"
   ]
  },
  {
   "cell_type": "code",
   "execution_count": 2,
   "metadata": {},
   "outputs": [],
   "source": [
    "from sklearn.datasets import fetch_california_housing\n",
    "from sklearn.metrics import mean_squared_error\n",
    "from sklearn.model_selection import train_test_split\n",
    "from sklearn.neural_network import MLPRegressor\n",
    "from sklearn.pipeline import make_pipeline\n",
    "from sklearn.preprocessing import StandardScaler\n",
    "\n",
    "housing = fetch_california_housing()\n",
    "\n",
    "X_train_full, X_test, y_train_full, y_test = train_test_split(\n",
    "    housing.data, housing.target, random_state=42)\n",
    "\n",
    "X_train, X_valid, y_train, y_valid = train_test_split(\n",
    "    X_train_full, y_train_full, random_state=42)\n",
    "\n"
   ]
  },
  {
   "cell_type": "markdown",
   "metadata": {},
   "source": [
    "# Linear Reg"
   ]
  },
  {
   "cell_type": "code",
   "execution_count": 6,
   "metadata": {},
   "outputs": [
    {
     "data": {
      "text/html": [
       "<style>#sk-container-id-2 {color: black;}#sk-container-id-2 pre{padding: 0;}#sk-container-id-2 div.sk-toggleable {background-color: white;}#sk-container-id-2 label.sk-toggleable__label {cursor: pointer;display: block;width: 100%;margin-bottom: 0;padding: 0.3em;box-sizing: border-box;text-align: center;}#sk-container-id-2 label.sk-toggleable__label-arrow:before {content: \"▸\";float: left;margin-right: 0.25em;color: #696969;}#sk-container-id-2 label.sk-toggleable__label-arrow:hover:before {color: black;}#sk-container-id-2 div.sk-estimator:hover label.sk-toggleable__label-arrow:before {color: black;}#sk-container-id-2 div.sk-toggleable__content {max-height: 0;max-width: 0;overflow: hidden;text-align: left;background-color: #f0f8ff;}#sk-container-id-2 div.sk-toggleable__content pre {margin: 0.2em;color: black;border-radius: 0.25em;background-color: #f0f8ff;}#sk-container-id-2 input.sk-toggleable__control:checked~div.sk-toggleable__content {max-height: 200px;max-width: 100%;overflow: auto;}#sk-container-id-2 input.sk-toggleable__control:checked~label.sk-toggleable__label-arrow:before {content: \"▾\";}#sk-container-id-2 div.sk-estimator input.sk-toggleable__control:checked~label.sk-toggleable__label {background-color: #d4ebff;}#sk-container-id-2 div.sk-label input.sk-toggleable__control:checked~label.sk-toggleable__label {background-color: #d4ebff;}#sk-container-id-2 input.sk-hidden--visually {border: 0;clip: rect(1px 1px 1px 1px);clip: rect(1px, 1px, 1px, 1px);height: 1px;margin: -1px;overflow: hidden;padding: 0;position: absolute;width: 1px;}#sk-container-id-2 div.sk-estimator {font-family: monospace;background-color: #f0f8ff;border: 1px dotted black;border-radius: 0.25em;box-sizing: border-box;margin-bottom: 0.5em;}#sk-container-id-2 div.sk-estimator:hover {background-color: #d4ebff;}#sk-container-id-2 div.sk-parallel-item::after {content: \"\";width: 100%;border-bottom: 1px solid gray;flex-grow: 1;}#sk-container-id-2 div.sk-label:hover label.sk-toggleable__label {background-color: #d4ebff;}#sk-container-id-2 div.sk-serial::before {content: \"\";position: absolute;border-left: 1px solid gray;box-sizing: border-box;top: 0;bottom: 0;left: 50%;z-index: 0;}#sk-container-id-2 div.sk-serial {display: flex;flex-direction: column;align-items: center;background-color: white;padding-right: 0.2em;padding-left: 0.2em;position: relative;}#sk-container-id-2 div.sk-item {position: relative;z-index: 1;}#sk-container-id-2 div.sk-parallel {display: flex;align-items: stretch;justify-content: center;background-color: white;position: relative;}#sk-container-id-2 div.sk-item::before, #sk-container-id-2 div.sk-parallel-item::before {content: \"\";position: absolute;border-left: 1px solid gray;box-sizing: border-box;top: 0;bottom: 0;left: 50%;z-index: -1;}#sk-container-id-2 div.sk-parallel-item {display: flex;flex-direction: column;z-index: 1;position: relative;background-color: white;}#sk-container-id-2 div.sk-parallel-item:first-child::after {align-self: flex-end;width: 50%;}#sk-container-id-2 div.sk-parallel-item:last-child::after {align-self: flex-start;width: 50%;}#sk-container-id-2 div.sk-parallel-item:only-child::after {width: 0;}#sk-container-id-2 div.sk-dashed-wrapped {border: 1px dashed gray;margin: 0 0.4em 0.5em 0.4em;box-sizing: border-box;padding-bottom: 0.4em;background-color: white;}#sk-container-id-2 div.sk-label label {font-family: monospace;font-weight: bold;display: inline-block;line-height: 1.2em;}#sk-container-id-2 div.sk-label-container {text-align: center;}#sk-container-id-2 div.sk-container {/* jupyter's `normalize.less` sets `[hidden] { display: none; }` but bootstrap.min.css set `[hidden] { display: none !important; }` so we also need the `!important` here to be able to override the default hidden behavior on the sphinx rendered scikit-learn.org. See: https://github.com/scikit-learn/scikit-learn/issues/21755 */display: inline-block !important;position: relative;}#sk-container-id-2 div.sk-text-repr-fallback {display: none;}</style><div id=\"sk-container-id-2\" class=\"sk-top-container\"><div class=\"sk-text-repr-fallback\"><pre>LinearRegression()</pre><b>In a Jupyter environment, please rerun this cell to show the HTML representation or trust the notebook. <br />On GitHub, the HTML representation is unable to render, please try loading this page with nbviewer.org.</b></div><div class=\"sk-container\" hidden><div class=\"sk-item\"><div class=\"sk-estimator sk-toggleable\"><input class=\"sk-toggleable__control sk-hidden--visually\" id=\"sk-estimator-id-2\" type=\"checkbox\" checked><label for=\"sk-estimator-id-2\" class=\"sk-toggleable__label sk-toggleable__label-arrow\">LinearRegression</label><div class=\"sk-toggleable__content\"><pre>LinearRegression()</pre></div></div></div></div></div>"
      ],
      "text/plain": [
       "LinearRegression()"
      ]
     },
     "execution_count": 6,
     "metadata": {},
     "output_type": "execute_result"
    }
   ],
   "source": [
    "from sklearn.linear_model import LinearRegression\n",
    "\n",
    "lin_reg = LinearRegression()\n",
    "\n",
    "lin_reg.fit(X_train_full, y_train_full)"
   ]
  },
  {
   "cell_type": "code",
   "execution_count": 8,
   "metadata": {},
   "outputs": [
    {
     "data": {
      "text/plain": [
       "0.5411287478470679"
      ]
     },
     "execution_count": 8,
     "metadata": {},
     "output_type": "execute_result"
    }
   ],
   "source": [
    "y_test_pred = lin_reg.predict(X_test)\n",
    "\n",
    "mean_squared_error(y_test_pred, y_test)"
   ]
  },
  {
   "cell_type": "markdown",
   "metadata": {},
   "source": [
    "# ANN"
   ]
  },
  {
   "cell_type": "code",
   "execution_count": 10,
   "metadata": {},
   "outputs": [
    {
     "data": {
      "text/plain": [
       "(11610, 8)"
      ]
     },
     "execution_count": 10,
     "metadata": {},
     "output_type": "execute_result"
    }
   ],
   "source": [
    "X_train.shape"
   ]
  },
  {
   "cell_type": "markdown",
   "metadata": {},
   "source": [
    "## Standardization"
   ]
  },
  {
   "cell_type": "code",
   "execution_count": 36,
   "metadata": {},
   "outputs": [],
   "source": [
    "std = StandardScaler()\n",
    "\n",
    "X_train_std = std.fit_transform(X_train)\n",
    "X_valid_std = std.transform(X_valid)\n",
    "X_test_std = std.transform(X_test)"
   ]
  },
  {
   "cell_type": "markdown",
   "metadata": {},
   "source": [
    "## model"
   ]
  },
  {
   "cell_type": "code",
   "execution_count": 56,
   "metadata": {},
   "outputs": [
    {
     "name": "stdout",
     "output_type": "stream",
     "text": [
      "Model: \"sequential\"\n",
      "_________________________________________________________________\n",
      " Layer (type)                Output Shape              Param #   \n",
      "=================================================================\n",
      " dense (Dense)               (None, 200)               1800      \n",
      "                                                                 \n",
      " dense_1 (Dense)             (None, 100)               20100     \n",
      "                                                                 \n",
      " dense_2 (Dense)             (None, 30)                3030      \n",
      "                                                                 \n",
      " dense_3 (Dense)             (None, 1)                 31        \n",
      "                                                                 \n",
      "=================================================================\n",
      "Total params: 24961 (97.50 KB)\n",
      "Trainable params: 24961 (97.50 KB)\n",
      "Non-trainable params: 0 (0.00 Byte)\n",
      "_________________________________________________________________\n"
     ]
    }
   ],
   "source": [
    "tf.keras.backend.clear_session()\n",
    "tf.random.set_seed(42)\n",
    "\n",
    "ann_model = tf.keras.Sequential([\n",
    "    tf.keras.layers.Dense(200, activation=\"relu\", input_shape=(8,)),\n",
    "    tf.keras.layers.Dense(100, activation=\"relu\"),\n",
    "    tf.keras.layers.Dense(30, activation=\"relu\"),\n",
    "    tf.keras.layers.Dense(1)\n",
    "])\n",
    "\n",
    "ann_model.summary()"
   ]
  },
  {
   "cell_type": "code",
   "execution_count": 57,
   "metadata": {},
   "outputs": [],
   "source": [
    "ann_model.compile(loss='mean_squared_error', optimizer='adam')"
   ]
  },
  {
   "cell_type": "code",
   "execution_count": 58,
   "metadata": {},
   "outputs": [
    {
     "name": "stdout",
     "output_type": "stream",
     "text": [
      "Epoch 1/200\n"
     ]
    },
    {
     "name": "stdout",
     "output_type": "stream",
     "text": [
      "363/363 [==============================] - 0s 786us/step - loss: 0.6787 - val_loss: 0.9182\n",
      "Epoch 2/200\n",
      "363/363 [==============================] - 0s 655us/step - loss: 0.3710 - val_loss: 2.0550\n",
      "Epoch 3/200\n",
      "363/363 [==============================] - 0s 670us/step - loss: 0.3539 - val_loss: 0.4606\n",
      "Epoch 4/200\n",
      "363/363 [==============================] - 0s 651us/step - loss: 0.3335 - val_loss: 0.4965\n",
      "Epoch 5/200\n",
      "363/363 [==============================] - 0s 647us/step - loss: 0.3195 - val_loss: 0.4590\n",
      "Epoch 6/200\n",
      "363/363 [==============================] - 0s 646us/step - loss: 0.3100 - val_loss: 0.6736\n",
      "Epoch 7/200\n",
      "363/363 [==============================] - 0s 642us/step - loss: 0.3119 - val_loss: 0.4466\n",
      "Epoch 8/200\n",
      "363/363 [==============================] - 0s 645us/step - loss: 0.2986 - val_loss: 0.5112\n",
      "Epoch 9/200\n",
      "363/363 [==============================] - 0s 651us/step - loss: 0.2907 - val_loss: 0.3785\n",
      "Epoch 10/200\n",
      "363/363 [==============================] - 0s 654us/step - loss: 0.2894 - val_loss: 1.3609\n",
      "Epoch 11/200\n",
      "363/363 [==============================] - 0s 646us/step - loss: 0.2907 - val_loss: 0.2999\n",
      "Epoch 12/200\n",
      "363/363 [==============================] - 0s 673us/step - loss: 0.2920 - val_loss: 0.8709\n",
      "Epoch 13/200\n",
      "363/363 [==============================] - 0s 653us/step - loss: 0.2781 - val_loss: 0.2947\n",
      "Epoch 14/200\n",
      "363/363 [==============================] - 0s 667us/step - loss: 0.2737 - val_loss: 0.2884\n",
      "Epoch 15/200\n",
      "363/363 [==============================] - 0s 679us/step - loss: 0.2704 - val_loss: 0.6579\n",
      "Epoch 16/200\n",
      "363/363 [==============================] - 0s 659us/step - loss: 0.2895 - val_loss: 0.4176\n",
      "Epoch 17/200\n",
      "363/363 [==============================] - 0s 653us/step - loss: 0.2690 - val_loss: 0.6976\n",
      "Epoch 18/200\n",
      "363/363 [==============================] - 0s 723us/step - loss: 0.2617 - val_loss: 0.3529\n",
      "Epoch 19/200\n",
      "363/363 [==============================] - 0s 654us/step - loss: 0.2571 - val_loss: 0.6439\n",
      "Epoch 20/200\n",
      "363/363 [==============================] - 0s 654us/step - loss: 0.2574 - val_loss: 0.2700\n",
      "Epoch 21/200\n",
      "363/363 [==============================] - 0s 637us/step - loss: 0.2539 - val_loss: 0.5217\n",
      "Epoch 22/200\n",
      "363/363 [==============================] - 0s 644us/step - loss: 0.2493 - val_loss: 0.3323\n",
      "Epoch 23/200\n",
      "363/363 [==============================] - 0s 638us/step - loss: 0.2452 - val_loss: 0.2967\n",
      "Epoch 24/200\n",
      "363/363 [==============================] - 0s 711us/step - loss: 0.2462 - val_loss: 0.3745\n",
      "Epoch 25/200\n",
      "363/363 [==============================] - 0s 738us/step - loss: 0.2476 - val_loss: 0.5447\n",
      "Epoch 26/200\n",
      "363/363 [==============================] - 0s 730us/step - loss: 0.2407 - val_loss: 0.2563\n",
      "Epoch 27/200\n",
      "363/363 [==============================] - 0s 685us/step - loss: 0.2388 - val_loss: 0.3000\n",
      "Epoch 28/200\n",
      "363/363 [==============================] - 0s 743us/step - loss: 0.2395 - val_loss: 0.3086\n",
      "Epoch 29/200\n",
      "363/363 [==============================] - 0s 729us/step - loss: 0.2360 - val_loss: 0.2557\n",
      "Epoch 30/200\n",
      "363/363 [==============================] - 0s 701us/step - loss: 0.2301 - val_loss: 0.3570\n",
      "Epoch 31/200\n",
      "363/363 [==============================] - 0s 723us/step - loss: 0.2297 - val_loss: 0.2611\n",
      "Epoch 32/200\n",
      "363/363 [==============================] - 0s 730us/step - loss: 0.2255 - val_loss: 0.5163\n",
      "Epoch 33/200\n",
      "363/363 [==============================] - 0s 713us/step - loss: 0.2253 - val_loss: 0.2662\n",
      "Epoch 34/200\n",
      "363/363 [==============================] - 0s 735us/step - loss: 0.2204 - val_loss: 0.2891\n",
      "Epoch 35/200\n",
      "363/363 [==============================] - 0s 655us/step - loss: 0.2233 - val_loss: 0.4161\n",
      "Epoch 36/200\n",
      "363/363 [==============================] - 0s 638us/step - loss: 0.2229 - val_loss: 0.2645\n",
      "Epoch 37/200\n",
      "363/363 [==============================] - 0s 651us/step - loss: 0.2180 - val_loss: 0.5514\n",
      "Epoch 38/200\n",
      "363/363 [==============================] - 0s 656us/step - loss: 0.2194 - val_loss: 0.3583\n",
      "Epoch 39/200\n",
      "363/363 [==============================] - 0s 672us/step - loss: 0.2262 - val_loss: 1.6864\n",
      "Epoch 40/200\n",
      "363/363 [==============================] - 0s 649us/step - loss: 0.2212 - val_loss: 0.4344\n",
      "Epoch 41/200\n",
      "363/363 [==============================] - 0s 649us/step - loss: 0.2131 - val_loss: 0.2717\n",
      "Epoch 42/200\n",
      "363/363 [==============================] - 0s 647us/step - loss: 0.2062 - val_loss: 0.3371\n",
      "Epoch 43/200\n",
      "363/363 [==============================] - 0s 649us/step - loss: 0.2079 - val_loss: 0.2673\n",
      "Epoch 44/200\n",
      "363/363 [==============================] - 0s 651us/step - loss: 0.2065 - val_loss: 0.3287\n",
      "Epoch 45/200\n",
      "363/363 [==============================] - 0s 653us/step - loss: 0.2051 - val_loss: 0.2680\n",
      "Epoch 46/200\n",
      "363/363 [==============================] - 0s 651us/step - loss: 0.2012 - val_loss: 0.2523\n",
      "Epoch 47/200\n",
      "363/363 [==============================] - 0s 642us/step - loss: 0.1991 - val_loss: 0.3650\n",
      "Epoch 48/200\n",
      "363/363 [==============================] - 0s 651us/step - loss: 0.1992 - val_loss: 0.2789\n",
      "Epoch 49/200\n",
      "363/363 [==============================] - 0s 652us/step - loss: 0.2000 - val_loss: 0.2850\n",
      "Epoch 50/200\n",
      "363/363 [==============================] - 0s 650us/step - loss: 0.1969 - val_loss: 0.6332\n",
      "Epoch 51/200\n",
      "363/363 [==============================] - 0s 656us/step - loss: 0.1942 - val_loss: 0.2507\n",
      "Epoch 52/200\n",
      "363/363 [==============================] - 0s 653us/step - loss: 0.1916 - val_loss: 1.2241\n",
      "Epoch 53/200\n",
      "363/363 [==============================] - 0s 642us/step - loss: 0.1977 - val_loss: 0.2715\n",
      "Epoch 54/200\n",
      "363/363 [==============================] - 0s 644us/step - loss: 0.1911 - val_loss: 0.2933\n",
      "Epoch 55/200\n",
      "363/363 [==============================] - 0s 643us/step - loss: 0.1925 - val_loss: 0.2656\n",
      "Epoch 56/200\n",
      "363/363 [==============================] - 0s 640us/step - loss: 0.1867 - val_loss: 0.3004\n",
      "Epoch 57/200\n",
      "363/363 [==============================] - 0s 645us/step - loss: 0.1858 - val_loss: 0.2836\n",
      "Epoch 58/200\n",
      "363/363 [==============================] - 0s 663us/step - loss: 0.1815 - val_loss: 0.2781\n",
      "Epoch 59/200\n",
      "363/363 [==============================] - 0s 647us/step - loss: 0.1804 - val_loss: 0.2609\n",
      "Epoch 60/200\n",
      "363/363 [==============================] - 0s 651us/step - loss: 0.1788 - val_loss: 0.3183\n",
      "Epoch 61/200\n",
      "363/363 [==============================] - 0s 643us/step - loss: 0.1789 - val_loss: 0.2693\n",
      "Epoch 62/200\n",
      "363/363 [==============================] - 0s 635us/step - loss: 0.1773 - val_loss: 0.3604\n",
      "Epoch 63/200\n",
      "363/363 [==============================] - 0s 647us/step - loss: 0.1746 - val_loss: 0.2834\n",
      "Epoch 64/200\n",
      "363/363 [==============================] - 0s 645us/step - loss: 0.1743 - val_loss: 0.2808\n",
      "Epoch 65/200\n",
      "363/363 [==============================] - 0s 644us/step - loss: 0.1726 - val_loss: 0.2650\n",
      "Epoch 66/200\n",
      "363/363 [==============================] - 0s 646us/step - loss: 0.1718 - val_loss: 0.4193\n",
      "Epoch 67/200\n",
      "363/363 [==============================] - 0s 649us/step - loss: 0.1721 - val_loss: 0.3143\n",
      "Epoch 68/200\n",
      "363/363 [==============================] - 0s 643us/step - loss: 0.1722 - val_loss: 0.2915\n",
      "Epoch 69/200\n",
      "363/363 [==============================] - 0s 633us/step - loss: 0.1680 - val_loss: 0.2749\n",
      "Epoch 70/200\n",
      "363/363 [==============================] - 0s 694us/step - loss: 0.1735 - val_loss: 0.2971\n",
      "Epoch 71/200\n",
      "363/363 [==============================] - 0s 651us/step - loss: 0.1648 - val_loss: 0.2617\n",
      "Epoch 72/200\n",
      "363/363 [==============================] - 0s 652us/step - loss: 0.1638 - val_loss: 0.3574\n",
      "Epoch 73/200\n",
      "363/363 [==============================] - 0s 649us/step - loss: 0.1644 - val_loss: 0.2680\n",
      "Epoch 74/200\n",
      "363/363 [==============================] - 0s 644us/step - loss: 0.1635 - val_loss: 0.3187\n",
      "Epoch 75/200\n",
      "363/363 [==============================] - 0s 643us/step - loss: 0.1593 - val_loss: 0.2873\n",
      "Epoch 76/200\n",
      "363/363 [==============================] - 0s 672us/step - loss: 0.1625 - val_loss: 0.3536\n",
      "Epoch 77/200\n",
      "363/363 [==============================] - 0s 643us/step - loss: 0.1643 - val_loss: 0.2858\n",
      "Epoch 78/200\n",
      "363/363 [==============================] - 0s 658us/step - loss: 0.1574 - val_loss: 1.0579\n",
      "Epoch 79/200\n",
      "363/363 [==============================] - 0s 647us/step - loss: 0.1681 - val_loss: 0.2692\n",
      "Epoch 80/200\n",
      "363/363 [==============================] - 0s 648us/step - loss: 0.1569 - val_loss: 7.2030\n",
      "Epoch 81/200\n",
      "363/363 [==============================] - 0s 642us/step - loss: 0.2000 - val_loss: 0.3365\n",
      "Epoch 82/200\n",
      "363/363 [==============================] - 0s 642us/step - loss: 0.1511 - val_loss: 1.9797\n",
      "Epoch 83/200\n",
      "363/363 [==============================] - 0s 641us/step - loss: 0.1531 - val_loss: 11.2999\n",
      "Epoch 84/200\n",
      "363/363 [==============================] - 0s 643us/step - loss: 0.2314 - val_loss: 0.2805\n",
      "Epoch 85/200\n",
      "363/363 [==============================] - 0s 644us/step - loss: 0.1518 - val_loss: 0.9250\n",
      "Epoch 86/200\n",
      "363/363 [==============================] - 0s 646us/step - loss: 0.1508 - val_loss: 0.3529\n",
      "Epoch 87/200\n",
      "363/363 [==============================] - 0s 648us/step - loss: 0.1469 - val_loss: 0.3255\n",
      "Epoch 88/200\n",
      "363/363 [==============================] - 0s 640us/step - loss: 0.1477 - val_loss: 0.2710\n",
      "Epoch 89/200\n",
      "363/363 [==============================] - 0s 646us/step - loss: 0.1429 - val_loss: 0.2681\n",
      "Epoch 90/200\n",
      "363/363 [==============================] - 0s 646us/step - loss: 0.1426 - val_loss: 0.2792\n",
      "Epoch 91/200\n",
      "363/363 [==============================] - 0s 646us/step - loss: 0.1415 - val_loss: 0.2729\n",
      "Epoch 92/200\n",
      "363/363 [==============================] - 0s 649us/step - loss: 0.1430 - val_loss: 0.2649\n",
      "Epoch 93/200\n",
      "363/363 [==============================] - 0s 642us/step - loss: 0.1401 - val_loss: 0.3096\n",
      "Epoch 94/200\n",
      "363/363 [==============================] - 0s 666us/step - loss: 0.1440 - val_loss: 0.2715\n",
      "Epoch 95/200\n",
      "363/363 [==============================] - 0s 650us/step - loss: 0.1357 - val_loss: 0.2793\n",
      "Epoch 96/200\n",
      "363/363 [==============================] - 0s 645us/step - loss: 0.1383 - val_loss: 0.2903\n",
      "Epoch 97/200\n",
      "363/363 [==============================] - 0s 640us/step - loss: 0.1389 - val_loss: 0.3172\n",
      "Epoch 98/200\n",
      "363/363 [==============================] - 0s 647us/step - loss: 0.1366 - val_loss: 0.2774\n",
      "Epoch 99/200\n",
      "363/363 [==============================] - 0s 644us/step - loss: 0.1357 - val_loss: 0.2753\n",
      "Epoch 100/200\n",
      "363/363 [==============================] - 0s 707us/step - loss: 0.1354 - val_loss: 0.2737\n",
      "Epoch 101/200\n",
      "363/363 [==============================] - 0s 648us/step - loss: 0.1359 - val_loss: 0.4269\n",
      "Epoch 102/200\n",
      "363/363 [==============================] - 0s 652us/step - loss: 0.1358 - val_loss: 0.2640\n",
      "Epoch 103/200\n",
      "363/363 [==============================] - 0s 645us/step - loss: 0.1298 - val_loss: 0.2855\n",
      "Epoch 104/200\n",
      "363/363 [==============================] - 0s 645us/step - loss: 0.1317 - val_loss: 0.2854\n",
      "Epoch 105/200\n",
      "363/363 [==============================] - 0s 651us/step - loss: 0.1335 - val_loss: 0.2880\n",
      "Epoch 106/200\n",
      "363/363 [==============================] - 0s 651us/step - loss: 0.1279 - val_loss: 0.2917\n",
      "Epoch 107/200\n",
      "363/363 [==============================] - 0s 648us/step - loss: 0.1297 - val_loss: 0.2864\n",
      "Epoch 108/200\n",
      "363/363 [==============================] - 0s 651us/step - loss: 0.1276 - val_loss: 0.2772\n",
      "Epoch 109/200\n",
      "363/363 [==============================] - 0s 644us/step - loss: 0.1279 - val_loss: 0.3093\n",
      "Epoch 110/200\n",
      "363/363 [==============================] - 0s 648us/step - loss: 0.1294 - val_loss: 0.6706\n",
      "Epoch 111/200\n",
      "363/363 [==============================] - 0s 647us/step - loss: 0.1269 - val_loss: 0.5904\n",
      "Epoch 112/200\n",
      "363/363 [==============================] - 0s 664us/step - loss: 0.1263 - val_loss: 0.3582\n",
      "Epoch 113/200\n",
      "363/363 [==============================] - 0s 642us/step - loss: 0.1236 - val_loss: 0.3260\n",
      "Epoch 114/200\n",
      "363/363 [==============================] - 0s 647us/step - loss: 0.1232 - val_loss: 0.3093\n",
      "Epoch 115/200\n",
      "363/363 [==============================] - 0s 645us/step - loss: 0.1205 - val_loss: 0.3153\n",
      "Epoch 116/200\n",
      "363/363 [==============================] - 0s 643us/step - loss: 0.1205 - val_loss: 0.3084\n",
      "Epoch 117/200\n",
      "363/363 [==============================] - 0s 641us/step - loss: 0.1203 - val_loss: 0.2900\n",
      "Epoch 118/200\n",
      "363/363 [==============================] - 0s 646us/step - loss: 0.1216 - val_loss: 0.2872\n",
      "Epoch 119/200\n",
      "363/363 [==============================] - 0s 641us/step - loss: 0.1216 - val_loss: 0.3196\n",
      "Epoch 120/200\n",
      "363/363 [==============================] - 0s 646us/step - loss: 0.1223 - val_loss: 0.3300\n",
      "Epoch 121/200\n",
      "363/363 [==============================] - 0s 642us/step - loss: 0.1170 - val_loss: 0.3290\n",
      "Epoch 122/200\n",
      "363/363 [==============================] - 0s 644us/step - loss: 0.1171 - val_loss: 0.2950\n",
      "Epoch 123/200\n",
      "363/363 [==============================] - 0s 643us/step - loss: 0.1164 - val_loss: 0.2947\n",
      "Epoch 124/200\n",
      "363/363 [==============================] - 0s 643us/step - loss: 0.1177 - val_loss: 0.2990\n",
      "Epoch 125/200\n",
      "363/363 [==============================] - 0s 646us/step - loss: 0.1176 - val_loss: 0.3154\n",
      "Epoch 126/200\n",
      "363/363 [==============================] - 0s 649us/step - loss: 0.1154 - val_loss: 0.3014\n",
      "Epoch 127/200\n",
      "363/363 [==============================] - 0s 696us/step - loss: 0.1125 - val_loss: 0.3129\n",
      "Epoch 128/200\n",
      "363/363 [==============================] - 0s 652us/step - loss: 0.1117 - val_loss: 0.3086\n",
      "Epoch 129/200\n",
      "363/363 [==============================] - 0s 651us/step - loss: 0.1117 - val_loss: 0.2915\n",
      "Epoch 130/200\n",
      "363/363 [==============================] - 0s 648us/step - loss: 0.1131 - val_loss: 0.3333\n",
      "Epoch 131/200\n",
      "363/363 [==============================] - 0s 664us/step - loss: 0.1087 - val_loss: 0.3173\n",
      "Epoch 132/200\n",
      "363/363 [==============================] - 0s 653us/step - loss: 0.1099 - val_loss: 0.3070\n",
      "Epoch 133/200\n",
      "363/363 [==============================] - 0s 646us/step - loss: 0.1096 - val_loss: 0.2944\n",
      "Epoch 134/200\n",
      "363/363 [==============================] - 0s 650us/step - loss: 0.1090 - val_loss: 0.3239\n",
      "Epoch 135/200\n",
      "363/363 [==============================] - 0s 648us/step - loss: 0.1077 - val_loss: 0.3174\n",
      "Epoch 136/200\n",
      "363/363 [==============================] - 0s 649us/step - loss: 0.1080 - val_loss: 0.3219\n",
      "Epoch 137/200\n",
      "363/363 [==============================] - 0s 650us/step - loss: 0.1057 - val_loss: 0.3063\n",
      "Epoch 138/200\n",
      "363/363 [==============================] - 0s 647us/step - loss: 0.1135 - val_loss: 0.3019\n",
      "Epoch 139/200\n",
      "363/363 [==============================] - 0s 653us/step - loss: 0.1062 - val_loss: 0.2983\n",
      "Epoch 140/200\n",
      "363/363 [==============================] - 0s 647us/step - loss: 0.1063 - val_loss: 0.2980\n",
      "Epoch 141/200\n",
      "363/363 [==============================] - 0s 650us/step - loss: 0.1058 - val_loss: 0.2932\n",
      "Epoch 142/200\n",
      "363/363 [==============================] - 0s 643us/step - loss: 0.1050 - val_loss: 0.3155\n",
      "Epoch 143/200\n",
      "363/363 [==============================] - 0s 638us/step - loss: 0.1043 - val_loss: 0.3011\n",
      "Epoch 144/200\n",
      "363/363 [==============================] - 0s 639us/step - loss: 0.1021 - val_loss: 0.3085\n",
      "Epoch 145/200\n",
      "363/363 [==============================] - 0s 646us/step - loss: 0.1034 - val_loss: 0.3768\n",
      "Epoch 146/200\n",
      "363/363 [==============================] - 0s 667us/step - loss: 0.1063 - val_loss: 0.3276\n",
      "Epoch 147/200\n",
      "363/363 [==============================] - 0s 642us/step - loss: 0.1021 - val_loss: 0.3102\n",
      "Epoch 148/200\n",
      "363/363 [==============================] - 0s 643us/step - loss: 0.0996 - val_loss: 0.3081\n",
      "Epoch 149/200\n",
      "363/363 [==============================] - 0s 648us/step - loss: 0.0978 - val_loss: 0.3038\n",
      "Epoch 150/200\n",
      "363/363 [==============================] - 0s 693us/step - loss: 0.1005 - val_loss: 0.3199\n",
      "Epoch 151/200\n",
      "363/363 [==============================] - 0s 647us/step - loss: 0.0993 - val_loss: 0.3231\n",
      "Epoch 152/200\n",
      "363/363 [==============================] - 0s 646us/step - loss: 0.1021 - val_loss: 0.3225\n",
      "Epoch 153/200\n",
      "363/363 [==============================] - 0s 641us/step - loss: 0.0988 - val_loss: 0.3193\n",
      "Epoch 154/200\n",
      "363/363 [==============================] - 0s 643us/step - loss: 0.1004 - val_loss: 0.3163\n",
      "Epoch 155/200\n",
      "363/363 [==============================] - 0s 650us/step - loss: 0.1000 - val_loss: 0.3161\n",
      "Epoch 156/200\n",
      "363/363 [==============================] - 0s 647us/step - loss: 0.0974 - val_loss: 0.3328\n",
      "Epoch 157/200\n",
      "363/363 [==============================] - 0s 647us/step - loss: 0.0956 - val_loss: 0.3140\n",
      "Epoch 158/200\n",
      "363/363 [==============================] - 0s 645us/step - loss: 0.0987 - val_loss: 0.3119\n",
      "Epoch 159/200\n",
      "363/363 [==============================] - 0s 662us/step - loss: 0.0936 - val_loss: 0.3401\n",
      "Epoch 160/200\n",
      "363/363 [==============================] - 0s 645us/step - loss: 0.0955 - val_loss: 0.2913\n",
      "Epoch 161/200\n",
      "363/363 [==============================] - 0s 649us/step - loss: 0.0945 - val_loss: 0.3175\n",
      "Epoch 162/200\n",
      "363/363 [==============================] - 0s 647us/step - loss: 0.0942 - val_loss: 0.3272\n",
      "Epoch 163/200\n",
      "363/363 [==============================] - 0s 649us/step - loss: 0.0998 - val_loss: 0.3132\n",
      "Epoch 164/200\n",
      "363/363 [==============================] - 0s 645us/step - loss: 0.0926 - val_loss: 0.3331\n",
      "Epoch 165/200\n",
      "363/363 [==============================] - 0s 669us/step - loss: 0.0920 - val_loss: 0.3250\n",
      "Epoch 166/200\n",
      "363/363 [==============================] - 0s 653us/step - loss: 0.0918 - val_loss: 0.3195\n",
      "Epoch 167/200\n",
      "363/363 [==============================] - 0s 646us/step - loss: 0.0935 - val_loss: 0.3115\n",
      "Epoch 168/200\n",
      "363/363 [==============================] - 0s 648us/step - loss: 0.0913 - val_loss: 0.3121\n",
      "Epoch 169/200\n",
      "363/363 [==============================] - 0s 647us/step - loss: 0.0894 - val_loss: 0.3130\n",
      "Epoch 170/200\n",
      "363/363 [==============================] - 0s 647us/step - loss: 0.0926 - val_loss: 0.3135\n",
      "Epoch 171/200\n",
      "363/363 [==============================] - 0s 650us/step - loss: 0.0898 - val_loss: 0.3329\n",
      "Epoch 172/200\n",
      "363/363 [==============================] - 0s 697us/step - loss: 0.0915 - val_loss: 0.3310\n",
      "Epoch 173/200\n",
      "363/363 [==============================] - 0s 644us/step - loss: 0.0971 - val_loss: 0.3223\n",
      "Epoch 174/200\n",
      "363/363 [==============================] - 0s 642us/step - loss: 0.0949 - val_loss: 0.3170\n",
      "Epoch 175/200\n",
      "363/363 [==============================] - 0s 660us/step - loss: 0.0942 - val_loss: 0.3166\n",
      "Epoch 176/200\n",
      "363/363 [==============================] - 0s 659us/step - loss: 0.0908 - val_loss: 0.3101\n",
      "Epoch 177/200\n",
      "363/363 [==============================] - 0s 658us/step - loss: 0.0874 - val_loss: 0.3051\n",
      "Epoch 178/200\n",
      "363/363 [==============================] - 0s 651us/step - loss: 0.0919 - val_loss: 0.3087\n",
      "Epoch 179/200\n",
      "363/363 [==============================] - 0s 654us/step - loss: 0.0852 - val_loss: 0.3125\n",
      "Epoch 180/200\n",
      "363/363 [==============================] - 0s 658us/step - loss: 0.0880 - val_loss: 0.3057\n",
      "Epoch 181/200\n",
      "363/363 [==============================] - 0s 680us/step - loss: 0.0841 - val_loss: 0.3039\n",
      "Epoch 182/200\n",
      "363/363 [==============================] - 0s 651us/step - loss: 0.0856 - val_loss: 0.3239\n",
      "Epoch 183/200\n",
      "363/363 [==============================] - 0s 670us/step - loss: 0.0899 - val_loss: 0.3125\n",
      "Epoch 184/200\n",
      "363/363 [==============================] - 0s 665us/step - loss: 0.0849 - val_loss: 0.3238\n",
      "Epoch 185/200\n",
      "363/363 [==============================] - 0s 658us/step - loss: 0.0870 - val_loss: 0.3214\n",
      "Epoch 186/200\n",
      "363/363 [==============================] - 0s 671us/step - loss: 0.0846 - val_loss: 0.3145\n",
      "Epoch 187/200\n",
      "363/363 [==============================] - 0s 659us/step - loss: 0.0829 - val_loss: 0.3109\n",
      "Epoch 188/200\n",
      "363/363 [==============================] - 0s 660us/step - loss: 0.0822 - val_loss: 0.3231\n",
      "Epoch 189/200\n",
      "363/363 [==============================] - 0s 659us/step - loss: 0.0832 - val_loss: 0.3275\n",
      "Epoch 190/200\n",
      "363/363 [==============================] - 0s 653us/step - loss: 0.0841 - val_loss: 0.3059\n",
      "Epoch 191/200\n",
      "363/363 [==============================] - 0s 658us/step - loss: 0.0852 - val_loss: 0.3212\n",
      "Epoch 192/200\n",
      "363/363 [==============================] - 0s 699us/step - loss: 0.0830 - val_loss: 0.3795\n",
      "Epoch 193/200\n",
      "363/363 [==============================] - 0s 650us/step - loss: 0.0842 - val_loss: 0.3067\n",
      "Epoch 194/200\n",
      "363/363 [==============================] - 0s 654us/step - loss: 0.0807 - val_loss: 0.3082\n",
      "Epoch 195/200\n",
      "363/363 [==============================] - 0s 715us/step - loss: 0.0782 - val_loss: 0.3054\n",
      "Epoch 196/200\n",
      "363/363 [==============================] - 0s 877us/step - loss: 0.0811 - val_loss: 0.3321\n",
      "Epoch 197/200\n",
      "363/363 [==============================] - 0s 823us/step - loss: 0.0784 - val_loss: 0.3100\n",
      "Epoch 198/200\n",
      "363/363 [==============================] - 0s 695us/step - loss: 0.0784 - val_loss: 0.3168\n",
      "Epoch 199/200\n",
      "363/363 [==============================] - 0s 680us/step - loss: 0.0813 - val_loss: 0.3220\n",
      "Epoch 200/200\n",
      "363/363 [==============================] - 0s 699us/step - loss: 0.0770 - val_loss: 0.3731\n"
     ]
    }
   ],
   "source": [
    "history = ann_model.fit(X_train_std, y_train, epochs=200,\n",
    "                    validation_data=(X_valid_std, y_valid))"
   ]
  },
  {
   "cell_type": "code",
   "execution_count": 62,
   "metadata": {},
   "outputs": [
    {
     "name": "stdout",
     "output_type": "stream",
     "text": [
      "  1/162 [..............................] - ETA: 1s"
     ]
    },
    {
     "name": "stdout",
     "output_type": "stream",
     "text": [
      "162/162 [==============================] - 0s 296us/step\n"
     ]
    },
    {
     "data": {
      "text/plain": [
       "0.5536994160884198"
      ]
     },
     "execution_count": 62,
     "metadata": {},
     "output_type": "execute_result"
    }
   ],
   "source": [
    "y_test_pred = ann_model.predict(X_test_std)\n",
    "rmse = mean_squared_error(y_test, y_test_pred, squared=False)\n",
    "rmse"
   ]
  },
  {
   "cell_type": "markdown",
   "metadata": {},
   "source": [
    "## plot"
   ]
  },
  {
   "cell_type": "code",
   "execution_count": 63,
   "metadata": {},
   "outputs": [
    {
     "data": {
      "text/plain": [
       "dict_keys(['loss', 'val_loss'])"
      ]
     },
     "execution_count": 63,
     "metadata": {},
     "output_type": "execute_result"
    }
   ],
   "source": [
    "history.history.keys()"
   ]
  },
  {
   "cell_type": "code",
   "execution_count": 61,
   "metadata": {},
   "outputs": [
    {
     "data": {
      "image/png": "[encoded data removed]",
      "text/plain": [
       "<Figure size 800x500 with 1 Axes>"
      ]
     },
     "metadata": {},
     "output_type": "display_data"
    }
   ],
   "source": [
    "import matplotlib.pyplot as plt\n",
    "import pandas as pd\n",
    "\n",
    "pd.DataFrame(history.history).plot(\n",
    "    figsize=(8, 5), xlim=[0, 29], ylim=[0, 2], grid=True, xlabel=\"Epoch\",\n",
    "    style=[\"r--.\", \"b-\"])\n",
    "plt.legend(loc=\"upper left\")  # extra code\n",
    "plt.show()"
   ]
  },
  {
   "cell_type": "code",
   "execution_count": null,
   "metadata": {},
   "outputs": [],
   "source": []
  }
 ],
 "metadata": {
  "kernelspec": {
   "display_name": "Python 3",
   "language": "python",
   "name": "python3"
  },
  "language_info": {
   "codemirror_mode": {
    "name": "ipython",
    "version": 3
   },
   "file_extension": ".py",
   "mimetype": "text/x-python",
   "name": "python",
   "nbconvert_exporter": "python",
   "pygments_lexer": "ipython3",
   "version": "3.11.2"
  }
 },
 "nbformat": 4,
 "nbformat_minor": 2
}
