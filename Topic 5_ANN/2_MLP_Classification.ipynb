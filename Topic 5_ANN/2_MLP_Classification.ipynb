{
 "cells": [
  {
   "cell_type": "code",
   "execution_count": 2,
   "metadata": {},
   "outputs": [],
   "source": [
    "import matplotlib.pyplot as plt\n",
    "import numpy as np\n",
    "import pandas as pd\n",
    "\n",
    "import tensorflow as tf\n"
   ]
  },
  {
   "cell_type": "markdown",
   "metadata": {},
   "source": [
    "# Data"
   ]
  },
  {
   "cell_type": "code",
   "execution_count": 5,
   "metadata": {},
   "outputs": [
    {
     "name": "stdout",
     "output_type": "stream",
     "text": [
      "Downloading data from https://storage.googleapis.com/tensorflow/tf-keras-datasets/train-labels-idx1-ubyte.gz\n",
      "29515/29515 [==============================] - 0s 0us/step\n",
      "Downloading data from https://storage.googleapis.com/tensorflow/tf-keras-datasets/train-images-idx3-ubyte.gz\n",
      "26421880/26421880 [==============================] - 1s 0us/step\n",
      "Downloading data from https://storage.googleapis.com/tensorflow/tf-keras-datasets/t10k-labels-idx1-ubyte.gz\n",
      "5148/5148 [==============================] - 0s 0us/step\n",
      "Downloading data from https://storage.googleapis.com/tensorflow/tf-keras-datasets/t10k-images-idx3-ubyte.gz\n",
      "4422102/4422102 [==============================] - 0s 0us/step\n"
     ]
    }
   ],
   "source": [
    "import tensorflow as tf\n",
    "\n",
    "fashion_mnist = tf.keras.datasets.fashion_mnist.load_data()\n",
    "\n"
   ]
  },
  {
   "cell_type": "code",
   "execution_count": 16,
   "metadata": {},
   "outputs": [],
   "source": [
    "from keras.datasets import fashion_mnist\n",
    "\n",
    "(X_train_full, y_train_full), (X_test, y_test) = fashion_mnist.load_data()\n",
    "X_train, y_train = X_train_full[:-5000], y_train_full[:-5000]\n",
    "X_valid, y_valid = X_train_full[-5000:], y_train_full[-5000:]\n"
   ]
  },
  {
   "cell_type": "code",
   "execution_count": 17,
   "metadata": {},
   "outputs": [
    {
     "data": {
      "text/plain": [
       "((60000, 28, 28), (55000, 28, 28))"
      ]
     },
     "execution_count": 17,
     "metadata": {},
     "output_type": "execute_result"
    }
   ],
   "source": [
    "X_train_full.shape, X_train.shape"
   ]
  },
  {
   "cell_type": "markdown",
   "metadata": {},
   "source": [
    "Let's scale the pixel intensities down to the 0-1 range and convert them to floats, by dividing by 255:"
   ]
  },
  {
   "cell_type": "code",
   "execution_count": 18,
   "metadata": {},
   "outputs": [],
   "source": [
    "X_train, X_valid, X_test = X_train / 255., X_valid / 255., X_test / 255."
   ]
  },
  {
   "cell_type": "code",
   "execution_count": 20,
   "metadata": {},
   "outputs": [
    {
     "data": {
      "image/png": "[encoded data removed]",
      "text/plain": [
       "<Figure size 640x480 with 1 Axes>"
      ]
     },
     "metadata": {},
     "output_type": "display_data"
    }
   ],
   "source": [
    "plt.imshow(X_train[0], cmap=\"binary\")\n",
    "plt.axis('off')\n",
    "plt.show()"
   ]
  },
  {
   "cell_type": "code",
   "execution_count": 22,
   "metadata": {},
   "outputs": [
    {
     "data": {
      "text/plain": [
       "(array([9, 0, 0, ..., 9, 0, 2], dtype=uint8), (55000,))"
      ]
     },
     "execution_count": 22,
     "metadata": {},
     "output_type": "execute_result"
    }
   ],
   "source": [
    "y_train, y_train.shape"
   ]
  },
  {
   "cell_type": "markdown",
   "metadata": {},
   "source": [
    "Here are the corresponding class names:"
   ]
  },
  {
   "cell_type": "code",
   "execution_count": 24,
   "metadata": {},
   "outputs": [],
   "source": [
    "class_names = [\"T-shirt/top\", \"Trouser\", \"Pullover\",\n",
    "                \"Dress\", \"Coat\", \"Sandal\", \"Shirt\", \"Sneaker\", \"Bag\", \"Ankle boot\"]"
   ]
  },
  {
   "cell_type": "code",
   "execution_count": 25,
   "metadata": {},
   "outputs": [
    {
     "data": {
      "text/plain": [
       "'Ankle boot'"
      ]
     },
     "execution_count": 25,
     "metadata": {},
     "output_type": "execute_result"
    }
   ],
   "source": [
    "class_names[y_train[0]]"
   ]
  },
  {
   "cell_type": "markdown",
   "metadata": {},
   "source": [
    "# Creating model using sequential API"
   ]
  },
  {
   "cell_type": "markdown",
   "metadata": {},
   "source": [
    "## creating model"
   ]
  },
  {
   "cell_type": "code",
   "execution_count": 26,
   "metadata": {},
   "outputs": [],
   "source": [
    "# extra code – clear the session to reset the name counters\n",
    "tf.keras.backend.clear_session()\n",
    "tf.random.set_seed(42)\n",
    "\n",
    "model = tf.keras.Sequential([\n",
    "    tf.keras.layers.Flatten(input_shape=[28, 28]),\n",
    "    tf.keras.layers.Dense(300, activation=\"relu\"),\n",
    "    tf.keras.layers.Dense(100, activation=\"relu\"),\n",
    "    tf.keras.layers.Dense(10, activation=\"softmax\")\n",
    "])"
   ]
  },
  {
   "cell_type": "code",
   "execution_count": 27,
   "metadata": {},
   "outputs": [
    {
     "name": "stdout",
     "output_type": "stream",
     "text": [
      "Model: \"sequential\"\n",
      "_________________________________________________________________\n",
      " Layer (type)                Output Shape              Param #   \n",
      "=================================================================\n",
      " flatten (Flatten)           (None, 784)               0         \n",
      "                                                                 \n",
      " dense (Dense)               (None, 300)               235500    \n",
      "                                                                 \n",
      " dense_1 (Dense)             (None, 100)               30100     \n",
      "                                                                 \n",
      " dense_2 (Dense)             (None, 10)                1010      \n",
      "                                                                 \n",
      "=================================================================\n",
      "Total params: 266610 (1.02 MB)\n",
      "Trainable params: 266610 (1.02 MB)\n",
      "Non-trainable params: 0 (0.00 Byte)\n",
      "_________________________________________________________________\n"
     ]
    }
   ],
   "source": [
    "model.summary()"
   ]
  },
  {
   "cell_type": "code",
   "execution_count": 28,
   "metadata": {},
   "outputs": [
    {
     "data": {
      "text/plain": [
       "235500"
      ]
     },
     "execution_count": 28,
     "metadata": {},
     "output_type": "execute_result"
    }
   ],
   "source": [
    "(784+1)*300"
   ]
  },
  {
   "cell_type": "code",
   "execution_count": 30,
   "metadata": {},
   "outputs": [
    {
     "data": {
      "text/plain": [
       "('dense', <keras.src.layers.core.dense.Dense at 0x2e7c1e6d0>)"
      ]
     },
     "execution_count": 30,
     "metadata": {},
     "output_type": "execute_result"
    }
   ],
   "source": [
    "hidden1 = model.layers[1]\n",
    "hidden1.name, hidden1"
   ]
  },
  {
   "cell_type": "markdown",
   "metadata": {},
   "source": [
    "## Parameter initialization"
   ]
  },
  {
   "cell_type": "code",
   "execution_count": 32,
   "metadata": {},
   "outputs": [
    {
     "data": {
      "text/plain": [
       "(array([[-0.00127714, -0.02958883,  0.00137495, ..., -0.05744988,\n",
       "         -0.05870515,  0.05779503],\n",
       "        [-0.0685811 , -0.06263971, -0.01213191, ..., -0.02409911,\n",
       "         -0.04077681, -0.00900082],\n",
       "        [ 0.04358675, -0.03183129,  0.01353746, ..., -0.01058196,\n",
       "          0.04420828, -0.045679  ],\n",
       "        ...,\n",
       "        [ 0.03319519, -0.05392835,  0.06181772, ..., -0.01290132,\n",
       "         -0.03287591, -0.00175172],\n",
       "        [ 0.01344904,  0.04315159, -0.01889871, ...,  0.00079735,\n",
       "         -0.0184457 , -0.00941359],\n",
       "        [-0.00841521,  0.0236082 , -0.06822592, ...,  0.00179816,\n",
       "         -0.05378075,  0.02466656]], dtype=float32),\n",
       " array([0., 0., 0., 0., 0., 0., 0., 0., 0., 0., 0., 0., 0., 0., 0., 0., 0.,\n",
       "        0., 0., 0., 0., 0., 0., 0., 0., 0., 0., 0., 0., 0., 0., 0., 0., 0.,\n",
       "        0., 0., 0., 0., 0., 0., 0., 0., 0., 0., 0., 0., 0., 0., 0., 0., 0.,\n",
       "        0., 0., 0., 0., 0., 0., 0., 0., 0., 0., 0., 0., 0., 0., 0., 0., 0.,\n",
       "        0., 0., 0., 0., 0., 0., 0., 0., 0., 0., 0., 0., 0., 0., 0., 0., 0.,\n",
       "        0., 0., 0., 0., 0., 0., 0., 0., 0., 0., 0., 0., 0., 0., 0., 0., 0.,\n",
       "        0., 0., 0., 0., 0., 0., 0., 0., 0., 0., 0., 0., 0., 0., 0., 0., 0.,\n",
       "        0., 0., 0., 0., 0., 0., 0., 0., 0., 0., 0., 0., 0., 0., 0., 0., 0.,\n",
       "        0., 0., 0., 0., 0., 0., 0., 0., 0., 0., 0., 0., 0., 0., 0., 0., 0.,\n",
       "        0., 0., 0., 0., 0., 0., 0., 0., 0., 0., 0., 0., 0., 0., 0., 0., 0.,\n",
       "        0., 0., 0., 0., 0., 0., 0., 0., 0., 0., 0., 0., 0., 0., 0., 0., 0.,\n",
       "        0., 0., 0., 0., 0., 0., 0., 0., 0., 0., 0., 0., 0., 0., 0., 0., 0.,\n",
       "        0., 0., 0., 0., 0., 0., 0., 0., 0., 0., 0., 0., 0., 0., 0., 0., 0.,\n",
       "        0., 0., 0., 0., 0., 0., 0., 0., 0., 0., 0., 0., 0., 0., 0., 0., 0.,\n",
       "        0., 0., 0., 0., 0., 0., 0., 0., 0., 0., 0., 0., 0., 0., 0., 0., 0.,\n",
       "        0., 0., 0., 0., 0., 0., 0., 0., 0., 0., 0., 0., 0., 0., 0., 0., 0.,\n",
       "        0., 0., 0., 0., 0., 0., 0., 0., 0., 0., 0., 0., 0., 0., 0., 0., 0.,\n",
       "        0., 0., 0., 0., 0., 0., 0., 0., 0., 0., 0.], dtype=float32))"
      ]
     },
     "execution_count": 32,
     "metadata": {},
     "output_type": "execute_result"
    }
   ],
   "source": [
    "weights, biases = hidden1.get_weights()\n",
    "weights, biases"
   ]
  },
  {
   "cell_type": "code",
   "execution_count": 33,
   "metadata": {},
   "outputs": [
    {
     "data": {
      "text/plain": [
       "(784, 300)"
      ]
     },
     "execution_count": 33,
     "metadata": {},
     "output_type": "execute_result"
    }
   ],
   "source": [
    "weights.shape"
   ]
  },
  {
   "cell_type": "markdown",
   "metadata": {},
   "source": [
    "## Compiling the model"
   ]
  },
  {
   "cell_type": "code",
   "execution_count": 34,
   "metadata": {},
   "outputs": [],
   "source": [
    "model.compile(loss=\"sparse_categorical_crossentropy\",\n",
    "              optimizer=\"sgd\",\n",
    "              metrics=[\"accuracy\"])"
   ]
  },
  {
   "cell_type": "markdown",
   "metadata": {},
   "source": [
    "## Training and evaluating the model"
   ]
  },
  {
   "cell_type": "code",
   "execution_count": 35,
   "metadata": {},
   "outputs": [
    {
     "name": "stdout",
     "output_type": "stream",
     "text": [
      "Epoch 1/30\n",
      "1719/1719 [==============================] - 1s 800us/step - loss: 0.7042 - accuracy: 0.7678 - val_loss: 0.5031 - val_accuracy: 0.8282\n",
      "Epoch 2/30\n",
      "1719/1719 [==============================] - 1s 714us/step - loss: 0.4866 - accuracy: 0.8308 - val_loss: 0.4598 - val_accuracy: 0.8354\n",
      "Epoch 3/30\n",
      "1719/1719 [==============================] - 1s 701us/step - loss: 0.4418 - accuracy: 0.8448 - val_loss: 0.4264 - val_accuracy: 0.8500\n",
      "Epoch 4/30\n",
      "1719/1719 [==============================] - 1s 687us/step - loss: 0.4179 - accuracy: 0.8536 - val_loss: 0.3972 - val_accuracy: 0.8602\n",
      "Epoch 5/30\n",
      "1719/1719 [==============================] - 1s 718us/step - loss: 0.3973 - accuracy: 0.8605 - val_loss: 0.3922 - val_accuracy: 0.8610\n",
      "Epoch 6/30\n",
      "1719/1719 [==============================] - 1s 826us/step - loss: 0.3806 - accuracy: 0.8656 - val_loss: 0.3962 - val_accuracy: 0.8590\n",
      "Epoch 7/30\n",
      "1719/1719 [==============================] - 1s 688us/step - loss: 0.3682 - accuracy: 0.8695 - val_loss: 0.3718 - val_accuracy: 0.8686\n",
      "Epoch 8/30\n",
      "1719/1719 [==============================] - 1s 704us/step - loss: 0.3570 - accuracy: 0.8733 - val_loss: 0.3760 - val_accuracy: 0.8616\n",
      "Epoch 9/30\n",
      "1719/1719 [==============================] - 1s 699us/step - loss: 0.3459 - accuracy: 0.8770 - val_loss: 0.3501 - val_accuracy: 0.8752\n",
      "Epoch 10/30\n",
      "1719/1719 [==============================] - 1s 708us/step - loss: 0.3355 - accuracy: 0.8802 - val_loss: 0.3581 - val_accuracy: 0.8722\n",
      "Epoch 11/30\n",
      "1719/1719 [==============================] - 1s 684us/step - loss: 0.3269 - accuracy: 0.8823 - val_loss: 0.3662 - val_accuracy: 0.8684\n",
      "Epoch 12/30\n",
      "1719/1719 [==============================] - 1s 725us/step - loss: 0.3187 - accuracy: 0.8851 - val_loss: 0.3513 - val_accuracy: 0.8736\n",
      "Epoch 13/30\n",
      "1719/1719 [==============================] - 1s 762us/step - loss: 0.3113 - accuracy: 0.8888 - val_loss: 0.3280 - val_accuracy: 0.8826\n",
      "Epoch 14/30\n",
      "1719/1719 [==============================] - 1s 741us/step - loss: 0.3041 - accuracy: 0.8901 - val_loss: 0.3355 - val_accuracy: 0.8798\n",
      "Epoch 15/30\n",
      "1719/1719 [==============================] - 1s 777us/step - loss: 0.2977 - accuracy: 0.8937 - val_loss: 0.3335 - val_accuracy: 0.8804\n",
      "Epoch 16/30\n",
      "1719/1719 [==============================] - 1s 732us/step - loss: 0.2901 - accuracy: 0.8959 - val_loss: 0.3312 - val_accuracy: 0.8786\n",
      "Epoch 17/30\n",
      "1719/1719 [==============================] - 1s 719us/step - loss: 0.2852 - accuracy: 0.8974 - val_loss: 0.3425 - val_accuracy: 0.8754\n",
      "Epoch 18/30\n",
      "1719/1719 [==============================] - 1s 691us/step - loss: 0.2795 - accuracy: 0.9000 - val_loss: 0.3207 - val_accuracy: 0.8836\n",
      "Epoch 19/30\n",
      "1719/1719 [==============================] - 1s 694us/step - loss: 0.2741 - accuracy: 0.9018 - val_loss: 0.3604 - val_accuracy: 0.8658\n",
      "Epoch 20/30\n",
      "1719/1719 [==============================] - 1s 676us/step - loss: 0.2691 - accuracy: 0.9037 - val_loss: 0.3196 - val_accuracy: 0.8826\n",
      "Epoch 21/30\n",
      "1719/1719 [==============================] - 1s 676us/step - loss: 0.2636 - accuracy: 0.9047 - val_loss: 0.3119 - val_accuracy: 0.8868\n",
      "Epoch 22/30\n",
      "1719/1719 [==============================] - 1s 689us/step - loss: 0.2584 - accuracy: 0.9060 - val_loss: 0.3120 - val_accuracy: 0.8874\n",
      "Epoch 23/30\n",
      "1719/1719 [==============================] - 1s 695us/step - loss: 0.2542 - accuracy: 0.9092 - val_loss: 0.3397 - val_accuracy: 0.8748\n",
      "Epoch 24/30\n",
      "1719/1719 [==============================] - 1s 684us/step - loss: 0.2494 - accuracy: 0.9111 - val_loss: 0.3199 - val_accuracy: 0.8858\n",
      "Epoch 25/30\n",
      "1719/1719 [==============================] - 1s 681us/step - loss: 0.2447 - accuracy: 0.9124 - val_loss: 0.3129 - val_accuracy: 0.8856\n",
      "Epoch 26/30\n",
      "1719/1719 [==============================] - 1s 682us/step - loss: 0.2406 - accuracy: 0.9135 - val_loss: 0.3099 - val_accuracy: 0.8890\n",
      "Epoch 27/30\n",
      "1719/1719 [==============================] - 1s 690us/step - loss: 0.2357 - accuracy: 0.9153 - val_loss: 0.3234 - val_accuracy: 0.8880\n",
      "Epoch 28/30\n",
      "1719/1719 [==============================] - 1s 694us/step - loss: 0.2331 - accuracy: 0.9156 - val_loss: 0.3098 - val_accuracy: 0.8900\n",
      "Epoch 29/30\n",
      "1719/1719 [==============================] - 1s 687us/step - loss: 0.2286 - accuracy: 0.9174 - val_loss: 0.3185 - val_accuracy: 0.8862\n",
      "Epoch 30/30\n",
      "1719/1719 [==============================] - 1s 703us/step - loss: 0.2252 - accuracy: 0.9187 - val_loss: 0.3037 - val_accuracy: 0.8912\n"
     ]
    }
   ],
   "source": [
    "history = model.fit(X_train, y_train, epochs=30,\n",
    "                    validation_data=(X_valid, y_valid))"
   ]
  },
  {
   "cell_type": "code",
   "execution_count": 36,
   "metadata": {},
   "outputs": [
    {
     "data": {
      "text/plain": [
       "{'verbose': 1, 'epochs': 30, 'steps': 1719}"
      ]
     },
     "execution_count": 36,
     "metadata": {},
     "output_type": "execute_result"
    }
   ],
   "source": [
    "history.params"
   ]
  },
  {
   "cell_type": "code",
   "execution_count": 38,
   "metadata": {},
   "outputs": [
    {
     "data": {
      "image/png": "[encoded data removed]",
      "text/plain": [
       "<Figure size 800x500 with 1 Axes>"
      ]
     },
     "metadata": {},
     "output_type": "display_data"
    }
   ],
   "source": [
    "import matplotlib.pyplot as plt\n",
    "import pandas as pd\n",
    "\n",
    "pd.DataFrame(history.history).plot(\n",
    "    figsize=(8, 5), xlim=[0, 29], ylim=[0, 1], grid=True, xlabel=\"Epoch\",\n",
    "    style=[\"r--\", \"r--.\", \"b-\", \"b-*\"])\n",
    "plt.legend(loc=\"lower left\")  # extra code\n",
    "\n",
    "plt.show()"
   ]
  },
  {
   "cell_type": "code",
   "execution_count": 40,
   "metadata": {},
   "outputs": [
    {
     "data": {
      "text/plain": [
       "dict_keys(['loss', 'accuracy', 'val_loss', 'val_accuracy'])"
      ]
     },
     "execution_count": 40,
     "metadata": {},
     "output_type": "execute_result"
    }
   ],
   "source": [
    "history.history.keys()"
   ]
  },
  {
   "cell_type": "code",
   "execution_count": 41,
   "metadata": {},
   "outputs": [
    {
     "name": "stdout",
     "output_type": "stream",
     "text": [
      "313/313 [==============================] - 0s 574us/step - loss: 0.3278 - accuracy: 0.8842\n"
     ]
    },
    {
     "data": {
      "text/plain": [
       "[0.32779356837272644, 0.8841999769210815]"
      ]
     },
     "execution_count": 41,
     "metadata": {},
     "output_type": "execute_result"
    }
   ],
   "source": [
    "model.evaluate(X_test, y_test)"
   ]
  },
  {
   "cell_type": "markdown",
   "metadata": {},
   "source": [
    "# Prediction"
   ]
  },
  {
   "cell_type": "code",
   "execution_count": 44,
   "metadata": {},
   "outputs": [
    {
     "name": "stdout",
     "output_type": "stream",
     "text": [
      "1/1 [==============================] - 0s 10ms/step\n"
     ]
    },
    {
     "data": {
      "text/plain": [
       "array([[0.  , 0.  , 0.  , 0.  , 0.  , 0.  , 0.  , 0.02, 0.  , 0.98],\n",
       "       [0.  , 0.  , 1.  , 0.  , 0.  , 0.  , 0.  , 0.  , 0.  , 0.  ],\n",
       "       [0.  , 1.  , 0.  , 0.  , 0.  , 0.  , 0.  , 0.  , 0.  , 0.  ]],\n",
       "      dtype=float32)"
      ]
     },
     "execution_count": 44,
     "metadata": {},
     "output_type": "execute_result"
    }
   ],
   "source": [
    "X_new = X_test[:3]\n",
    "y_proba = model.predict(X_new)\n",
    "y_proba.round(2)"
   ]
  },
  {
   "cell_type": "code",
   "execution_count": 47,
   "metadata": {},
   "outputs": [
    {
     "data": {
      "text/plain": [
       "array([9, 2, 1])"
      ]
     },
     "execution_count": 47,
     "metadata": {},
     "output_type": "execute_result"
    }
   ],
   "source": [
    "y_pred = y_proba.argmax(axis=1)\n",
    "y_pred"
   ]
  },
  {
   "cell_type": "code",
   "execution_count": 48,
   "metadata": {},
   "outputs": [
    {
     "data": {
      "text/plain": [
       "array(['Ankle boot', 'Pullover', 'Trouser'], dtype='<U11')"
      ]
     },
     "execution_count": 48,
     "metadata": {},
     "output_type": "execute_result"
    }
   ],
   "source": [
    "np.array(class_names)[y_pred]"
   ]
  },
  {
   "cell_type": "code",
   "execution_count": null,
   "metadata": {},
   "outputs": [],
   "source": []
  }
 ],
 "metadata": {
  "kernelspec": {
   "display_name": "Python 3",
   "language": "python",
   "name": "python3"
  },
  "language_info": {
   "codemirror_mode": {
    "name": "ipython",
    "version": 3
   },
   "file_extension": ".py",
   "mimetype": "text/x-python",
   "name": "python",
   "nbconvert_exporter": "python",
   "pygments_lexer": "ipython3",
   "version": "3.undefined.undefined"
  }
 },
 "nbformat": 4,
 "nbformat_minor": 2
}
