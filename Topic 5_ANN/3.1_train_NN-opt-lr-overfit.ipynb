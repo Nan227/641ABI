{
 "cells": [
  {
   "cell_type": "code",
   "execution_count": 1,
   "metadata": {},
   "outputs": [
    {
     "name": "stderr",
     "output_type": "stream",
     "text": [
      "2024-04-16 15:46:47.245028: I external/local_tsl/tsl/cuda/cudart_stub.cc:32] Could not find cuda drivers on your machine, GPU will not be used.\n",
      "2024-04-16 15:46:47.404006: I external/local_tsl/tsl/cuda/cudart_stub.cc:32] Could not find cuda drivers on your machine, GPU will not be used.\n",
      "2024-04-16 15:46:47.702760: I tensorflow/core/platform/cpu_feature_guard.cc:210] This TensorFlow binary is optimized to use available CPU instructions in performance-critical operations.\n",
      "To enable the following instructions: AVX2 FMA, in other operations, rebuild TensorFlow with the appropriate compiler flags.\n",
      "2024-04-16 15:46:50.230819: W tensorflow/compiler/tf2tensorrt/utils/py_utils.cc:38] TF-TRT Warning: Could not find TensorRT\n"
     ]
    }
   ],
   "source": [
    "import matplotlib.pyplot as plt\n",
    "import numpy as np\n",
    "import pandas as pd\n",
    "\n",
    "import tensorflow as tf"
   ]
  },
  {
   "cell_type": "markdown",
   "metadata": {},
   "source": [
    "# Data"
   ]
  },
  {
   "cell_type": "code",
   "execution_count": 2,
   "metadata": {},
   "outputs": [],
   "source": [
    "fashion_mnist = tf.keras.datasets.fashion_mnist.load_data()\n",
    "\n",
    "(X_train_full, y_train_full), (X_test, y_test) = fashion_mnist\n",
    "\n",
    "X_train, y_train = X_train_full[:-5000], y_train_full[:-5000]\n",
    "X_valid, y_valid = X_train_full[-5000:], y_train_full[-5000:]\n",
    "\n",
    "X_train, X_valid, X_test = X_train/255, X_valid/255, X_test/255\n",
    "\n",
    "class_names = [\"T-shirt/top\", \"Trouser\", \"Pullover\", \n",
    "               \"Dress\", \"Coat\", \"Sandal\", \"Shirt\",\n",
    "               \"Sneaker\", \"Bag\", \"Ankle boot\"]\n",
    "\n",
    "\n",
    "pixel_means = X_train.mean(axis=0, keepdims=True)\n",
    "pixel_stds = X_train.std(axis=0, keepdims=True)\n",
    "\n",
    "X_train_scaled = (X_train - pixel_means)/pixel_stds\n",
    "X_valid_scaled = (X_valid - pixel_means)/pixel_stds\n",
    "X_test_scaled = (X_test - pixel_means)/pixel_stds"
   ]
  },
  {
   "cell_type": "code",
   "execution_count": 3,
   "metadata": {},
   "outputs": [],
   "source": [
    "# def build_model(seed=2024):\n",
    "#     tf.random.set_seed(seed)\n",
    "#     model = tf.keras.Sequential([\n",
    "#         tf.keras.layers.Flatten(input_shape=[28, 28]),\n",
    "#         tf.keras.layers.Dense(100, activation=\"relu\", kernel_initializer=\"he_normal\"),\n",
    "#         tf.keras.layers.Dense(100, activation=\"relu\", kernel_initializer=\"he_normal\"),\n",
    "#         tf.keras.layers.Dense(100, activation=\"relu\", kernel_initializer=\"he_normal\"),\n",
    "#         tf.keras.layers.Dense(10, activation=\"softmax\")    \n",
    "#     ])\n",
    "#     return model\n",
    "\n",
    "# def build_and_train_model(optimizer):\n",
    "#     model = build_model()\n",
    "#     model.compile(\n",
    "#         loss=\"sparse_categorical_crossentropy\",\n",
    "#         optimizer= optimizer,\n",
    "#         metrics = [\"accuracy\"]\n",
    "#     )\n",
    "\n",
    "#     history = model.fit(X_train_scaled, y_train, epochs=5,\n",
    "#                     validation_data= (X_valid_scaled, y_valid))\n",
    "#     return history\n",
    "\n",
    "    "
   ]
  },
  {
   "cell_type": "code",
   "execution_count": 4,
   "metadata": {},
   "outputs": [],
   "source": [
    "# optimizer = tf.keras.optimizers.SGD(learning_rate = 0.001)#, momentum = 0.9)\n"
   ]
  },
  {
   "cell_type": "code",
   "execution_count": 5,
   "metadata": {},
   "outputs": [],
   "source": [
    "# history_sgd = build_and_train_model(optimizer)"
   ]
  },
  {
   "cell_type": "markdown",
   "metadata": {},
   "source": [
    "# Faster Optimizers"
   ]
  },
  {
   "cell_type": "code",
   "execution_count": 10,
   "metadata": {},
   "outputs": [
    {
     "name": "stdout",
     "output_type": "stream",
     "text": [
      "Epoch 1/5\n",
      "\u001b[1m1719/1719\u001b[0m \u001b[32m━━━━━━━━━━━━━━━━━━━━\u001b[0m\u001b[37m\u001b[0m \u001b[1m3s\u001b[0m 1ms/step - accuracy: 0.5143 - loss: 1.4654 - val_accuracy: 0.7632 - val_loss: 0.6551\n",
      "Epoch 2/5\n",
      "\u001b[1m1719/1719\u001b[0m \u001b[32m━━━━━━━━━━━━━━━━━━━━\u001b[0m\u001b[37m\u001b[0m \u001b[1m3s\u001b[0m 1ms/step - accuracy: 0.7747 - loss: 0.6411 - val_accuracy: 0.8032 - val_loss: 0.5406\n",
      "Epoch 3/5\n",
      "\u001b[1m1719/1719\u001b[0m \u001b[32m━━━━━━━━━━━━━━━━━━━━\u001b[0m\u001b[37m\u001b[0m \u001b[1m2s\u001b[0m 1ms/step - accuracy: 0.8082 - loss: 0.5398 - val_accuracy: 0.8200 - val_loss: 0.4915\n",
      "Epoch 4/5\n",
      "\u001b[1m1719/1719\u001b[0m \u001b[32m━━━━━━━━━━━━━━━━━━━━\u001b[0m\u001b[37m\u001b[0m \u001b[1m2s\u001b[0m 1ms/step - accuracy: 0.8263 - loss: 0.4892 - val_accuracy: 0.8314 - val_loss: 0.4629\n",
      "Epoch 5/5\n",
      "\u001b[1m1719/1719\u001b[0m \u001b[32m━━━━━━━━━━━━━━━━━━━━\u001b[0m\u001b[37m\u001b[0m \u001b[1m2s\u001b[0m 1ms/step - accuracy: 0.8371 - loss: 0.4572 - val_accuracy: 0.8382 - val_loss: 0.4438\n"
     ]
    }
   ],
   "source": [
    "tf.random.set_seed(2024)\n",
    "model = tf.keras.Sequential([\n",
    "    tf.keras.layers.Flatten(input_shape=[28, 28]),\n",
    "    tf.keras.layers.Dense(100, activation=\"relu\", kernel_initializer=\"he_normal\"),\n",
    "    tf.keras.layers.Dense(100, activation=\"relu\", kernel_initializer=\"he_normal\"),\n",
    "    tf.keras.layers.Dense(100, activation=\"relu\", kernel_initializer=\"he_normal\"),\n",
    "    tf.keras.layers.Dense(10, activation=\"softmax\")    \n",
    "])\n",
    "\n",
    "# 1\n",
    "optimizer = tf.keras.optimizers.SGD(learning_rate = 0.001)\n",
    "# 2\n",
    "optimizer = tf.keras.optimizers.SGD(learning_rate = 0.001, momentum = 0.9)\n",
    "\n",
    "# 3 nesterov\n",
    "optimizer = tf.keras.Optimizers.SGD(learning_rate = 0.001, momentum = 0.9, nesterov=True)\n",
    "\n",
    "# 4 AdaGrad\n",
    "optimizer = tf.keras.optimizers.Adagrad(learning_rate = 0.001)\n",
    "\n",
    "model.compile(\n",
    "    loss=\"sparse_categorical_crossentropy\",\n",
    "    optimizer= optimizer,\n",
    "    metrics = [\"accuracy\"]\n",
    ")\n",
    "\n",
    "history = model.fit(X_train_scaled, y_train, epochs=5,\n",
    "                    validation_data= (X_valid_scaled, y_valid))"
   ]
  },
  {
   "cell_type": "markdown",
   "metadata": {},
   "source": [
    "# Learning rate scheduling"
   ]
  },
  {
   "cell_type": "markdown",
   "metadata": {},
   "source": [
    "## Performance scheduling"
   ]
  },
  {
   "cell_type": "code",
   "execution_count": 12,
   "metadata": {},
   "outputs": [
    {
     "name": "stdout",
     "output_type": "stream",
     "text": [
      "Epoch 1/100\n",
      "\u001b[1m1719/1719\u001b[0m \u001b[32m━━━━━━━━━━━━━━━━━━━━\u001b[0m\u001b[37m\u001b[0m \u001b[1m3s\u001b[0m 2ms/step - accuracy: 0.7432 - loss: 0.7427 - val_accuracy: 0.8444 - val_loss: 0.4223 - learning_rate: 0.0100\n",
      "Epoch 2/100\n",
      "\u001b[1m1719/1719\u001b[0m \u001b[32m━━━━━━━━━━━━━━━━━━━━\u001b[0m\u001b[37m\u001b[0m \u001b[1m2s\u001b[0m 1ms/step - accuracy: 0.8580 - loss: 0.3993 - val_accuracy: 0.8614 - val_loss: 0.3778 - learning_rate: 0.0100\n",
      "Epoch 3/100\n",
      "\u001b[1m1719/1719\u001b[0m \u001b[32m━━━━━━━━━━━━━━━━━━━━\u001b[0m\u001b[37m\u001b[0m \u001b[1m3s\u001b[0m 1ms/step - accuracy: 0.8759 - loss: 0.3508 - val_accuracy: 0.8672 - val_loss: 0.3572 - learning_rate: 0.0100\n",
      "Epoch 4/100\n",
      "\u001b[1m1719/1719\u001b[0m \u001b[32m━━━━━━━━━━━━━━━━━━━━\u001b[0m\u001b[37m\u001b[0m \u001b[1m2s\u001b[0m 1ms/step - accuracy: 0.8853 - loss: 0.3205 - val_accuracy: 0.8706 - val_loss: 0.3462 - learning_rate: 0.0100\n",
      "Epoch 5/100\n",
      "\u001b[1m1719/1719\u001b[0m \u001b[32m━━━━━━━━━━━━━━━━━━━━\u001b[0m\u001b[37m\u001b[0m \u001b[1m2s\u001b[0m 1ms/step - accuracy: 0.8932 - loss: 0.2986 - val_accuracy: 0.8760 - val_loss: 0.3391 - learning_rate: 0.0100\n",
      "Epoch 6/100\n",
      "\u001b[1m1719/1719\u001b[0m \u001b[32m━━━━━━━━━━━━━━━━━━━━\u001b[0m\u001b[37m\u001b[0m \u001b[1m2s\u001b[0m 1ms/step - accuracy: 0.9003 - loss: 0.2791 - val_accuracy: 0.8770 - val_loss: 0.3343 - learning_rate: 0.0100\n",
      "Epoch 7/100\n",
      "\u001b[1m1719/1719\u001b[0m \u001b[32m━━━━━━━━━━━━━━━━━━━━\u001b[0m\u001b[37m\u001b[0m \u001b[1m3s\u001b[0m 1ms/step - accuracy: 0.9060 - loss: 0.2636 - val_accuracy: 0.8802 - val_loss: 0.3319 - learning_rate: 0.0100\n",
      "Epoch 8/100\n",
      "\u001b[1m1719/1719\u001b[0m \u001b[32m━━━━━━━━━━━━━━━━━━━━\u001b[0m\u001b[37m\u001b[0m \u001b[1m3s\u001b[0m 1ms/step - accuracy: 0.9112 - loss: 0.2495 - val_accuracy: 0.8808 - val_loss: 0.3308 - learning_rate: 0.0100\n",
      "Epoch 9/100\n",
      "\u001b[1m1719/1719\u001b[0m \u001b[32m━━━━━━━━━━━━━━━━━━━━\u001b[0m\u001b[37m\u001b[0m \u001b[1m2s\u001b[0m 1ms/step - accuracy: 0.9153 - loss: 0.2368 - val_accuracy: 0.8824 - val_loss: 0.3308 - learning_rate: 0.0100\n",
      "Epoch 10/100\n",
      "\u001b[1m1719/1719\u001b[0m \u001b[32m━━━━━━━━━━━━━━━━━━━━\u001b[0m\u001b[37m\u001b[0m \u001b[1m3s\u001b[0m 1ms/step - accuracy: 0.9201 - loss: 0.2250 - val_accuracy: 0.8836 - val_loss: 0.3324 - learning_rate: 0.0100\n",
      "Epoch 11/100\n",
      "\u001b[1m1719/1719\u001b[0m \u001b[32m━━━━━━━━━━━━━━━━━━━━\u001b[0m\u001b[37m\u001b[0m \u001b[1m2s\u001b[0m 1ms/step - accuracy: 0.9242 - loss: 0.2136 - val_accuracy: 0.8852 - val_loss: 0.3350 - learning_rate: 0.0100\n",
      "Epoch 12/100\n",
      "\u001b[1m1719/1719\u001b[0m \u001b[32m━━━━━━━━━━━━━━━━━━━━\u001b[0m\u001b[37m\u001b[0m \u001b[1m3s\u001b[0m 1ms/step - accuracy: 0.9280 - loss: 0.2037 - val_accuracy: 0.8842 - val_loss: 0.3379 - learning_rate: 0.0100\n",
      "Epoch 13/100\n",
      "\u001b[1m1719/1719\u001b[0m \u001b[32m━━━━━━━━━━━━━━━━━━━━\u001b[0m\u001b[37m\u001b[0m \u001b[1m2s\u001b[0m 1ms/step - accuracy: 0.9313 - loss: 0.1938 - val_accuracy: 0.8854 - val_loss: 0.3406 - learning_rate: 0.0100\n",
      "Epoch 14/100\n",
      "\u001b[1m1719/1719\u001b[0m \u001b[32m━━━━━━━━━━━━━━━━━━━━\u001b[0m\u001b[37m\u001b[0m \u001b[1m2s\u001b[0m 1ms/step - accuracy: 0.9383 - loss: 0.1766 - val_accuracy: 0.8856 - val_loss: 0.3352 - learning_rate: 0.0050\n",
      "Epoch 15/100\n",
      "\u001b[1m1719/1719\u001b[0m \u001b[32m━━━━━━━━━━━━━━━━━━━━\u001b[0m\u001b[37m\u001b[0m \u001b[1m2s\u001b[0m 1ms/step - accuracy: 0.9418 - loss: 0.1691 - val_accuracy: 0.8862 - val_loss: 0.3370 - learning_rate: 0.0050\n",
      "Epoch 16/100\n",
      "\u001b[1m1719/1719\u001b[0m \u001b[32m━━━━━━━━━━━━━━━━━━━━\u001b[0m\u001b[37m\u001b[0m \u001b[1m3s\u001b[0m 1ms/step - accuracy: 0.9443 - loss: 0.1635 - val_accuracy: 0.8866 - val_loss: 0.3396 - learning_rate: 0.0050\n",
      "Epoch 17/100\n",
      "\u001b[1m1719/1719\u001b[0m \u001b[32m━━━━━━━━━━━━━━━━━━━━\u001b[0m\u001b[37m\u001b[0m \u001b[1m2s\u001b[0m 1ms/step - accuracy: 0.9460 - loss: 0.1584 - val_accuracy: 0.8862 - val_loss: 0.3424 - learning_rate: 0.0050\n",
      "Epoch 18/100\n",
      "\u001b[1m1719/1719\u001b[0m \u001b[32m━━━━━━━━━━━━━━━━━━━━\u001b[0m\u001b[37m\u001b[0m \u001b[1m2s\u001b[0m 1ms/step - accuracy: 0.9479 - loss: 0.1535 - val_accuracy: 0.8864 - val_loss: 0.3454 - learning_rate: 0.0050\n",
      "Epoch 19/100\n",
      "\u001b[1m1719/1719\u001b[0m \u001b[32m━━━━━━━━━━━━━━━━━━━━\u001b[0m\u001b[37m\u001b[0m \u001b[1m2s\u001b[0m 1ms/step - accuracy: 0.9509 - loss: 0.1459 - val_accuracy: 0.8870 - val_loss: 0.3447 - learning_rate: 0.0025\n",
      "Epoch 20/100\n",
      "\u001b[1m1719/1719\u001b[0m \u001b[32m━━━━━━━━━━━━━━━━━━━━\u001b[0m\u001b[37m\u001b[0m \u001b[1m2s\u001b[0m 1ms/step - accuracy: 0.9527 - loss: 0.1421 - val_accuracy: 0.8864 - val_loss: 0.3467 - learning_rate: 0.0025\n",
      "Epoch 21/100\n",
      "\u001b[1m1719/1719\u001b[0m \u001b[32m━━━━━━━━━━━━━━━━━━━━\u001b[0m\u001b[37m\u001b[0m \u001b[1m3s\u001b[0m 1ms/step - accuracy: 0.9539 - loss: 0.1393 - val_accuracy: 0.8868 - val_loss: 0.3483 - learning_rate: 0.0025\n",
      "Epoch 22/100\n",
      "\u001b[1m1719/1719\u001b[0m \u001b[32m━━━━━━━━━━━━━━━━━━━━\u001b[0m\u001b[37m\u001b[0m \u001b[1m2s\u001b[0m 1ms/step - accuracy: 0.9551 - loss: 0.1367 - val_accuracy: 0.8870 - val_loss: 0.3505 - learning_rate: 0.0025\n",
      "Epoch 23/100\n",
      "\u001b[1m1719/1719\u001b[0m \u001b[32m━━━━━━━━━━━━━━━━━━━━\u001b[0m\u001b[37m\u001b[0m \u001b[1m3s\u001b[0m 1ms/step - accuracy: 0.9562 - loss: 0.1342 - val_accuracy: 0.8864 - val_loss: 0.3524 - learning_rate: 0.0025\n",
      "Epoch 24/100\n",
      "\u001b[1m1719/1719\u001b[0m \u001b[32m━━━━━━━━━━━━━━━━━━━━\u001b[0m\u001b[37m\u001b[0m \u001b[1m2s\u001b[0m 1ms/step - accuracy: 0.9568 - loss: 0.1307 - val_accuracy: 0.8878 - val_loss: 0.3528 - learning_rate: 0.0012\n",
      "Epoch 25/100\n",
      "\u001b[1m1719/1719\u001b[0m \u001b[32m━━━━━━━━━━━━━━━━━━━━\u001b[0m\u001b[37m\u001b[0m \u001b[1m3s\u001b[0m 1ms/step - accuracy: 0.9579 - loss: 0.1286 - val_accuracy: 0.8878 - val_loss: 0.3538 - learning_rate: 0.0012\n",
      "Epoch 26/100\n",
      "\u001b[1m1719/1719\u001b[0m \u001b[32m━━━━━━━━━━━━━━━━━━━━\u001b[0m\u001b[37m\u001b[0m \u001b[1m2s\u001b[0m 1ms/step - accuracy: 0.9583 - loss: 0.1272 - val_accuracy: 0.8880 - val_loss: 0.3548 - learning_rate: 0.0012\n",
      "Epoch 27/100\n",
      "\u001b[1m1719/1719\u001b[0m \u001b[32m━━━━━━━━━━━━━━━━━━━━\u001b[0m\u001b[37m\u001b[0m \u001b[1m2s\u001b[0m 1ms/step - accuracy: 0.9591 - loss: 0.1258 - val_accuracy: 0.8884 - val_loss: 0.3559 - learning_rate: 0.0012\n",
      "Epoch 28/100\n",
      "\u001b[1m1719/1719\u001b[0m \u001b[32m━━━━━━━━━━━━━━━━━━━━\u001b[0m\u001b[37m\u001b[0m \u001b[1m2s\u001b[0m 1ms/step - accuracy: 0.9598 - loss: 0.1245 - val_accuracy: 0.8882 - val_loss: 0.3570 - learning_rate: 0.0012\n",
      "Epoch 29/100\n",
      "\u001b[1m1719/1719\u001b[0m \u001b[32m━━━━━━━━━━━━━━━━━━━━\u001b[0m\u001b[37m\u001b[0m \u001b[1m3s\u001b[0m 1ms/step - accuracy: 0.9602 - loss: 0.1227 - val_accuracy: 0.8896 - val_loss: 0.3563 - learning_rate: 6.2500e-04\n",
      "Epoch 30/100\n",
      "\u001b[1m1719/1719\u001b[0m \u001b[32m━━━━━━━━━━━━━━━━━━━━\u001b[0m\u001b[37m\u001b[0m \u001b[1m2s\u001b[0m 1ms/step - accuracy: 0.9604 - loss: 0.1215 - val_accuracy: 0.8896 - val_loss: 0.3569 - learning_rate: 6.2500e-04\n",
      "Epoch 31/100\n",
      "\u001b[1m1719/1719\u001b[0m \u001b[32m━━━━━━━━━━━━━━━━━━━━\u001b[0m\u001b[37m\u001b[0m \u001b[1m2s\u001b[0m 1ms/step - accuracy: 0.9610 - loss: 0.1207 - val_accuracy: 0.8892 - val_loss: 0.3575 - learning_rate: 6.2500e-04\n",
      "Epoch 32/100\n",
      "\u001b[1m1719/1719\u001b[0m \u001b[32m━━━━━━━━━━━━━━━━━━━━\u001b[0m\u001b[37m\u001b[0m \u001b[1m2s\u001b[0m 1ms/step - accuracy: 0.9612 - loss: 0.1200 - val_accuracy: 0.8894 - val_loss: 0.3581 - learning_rate: 6.2500e-04\n",
      "Epoch 33/100\n",
      "\u001b[1m1719/1719\u001b[0m \u001b[32m━━━━━━━━━━━━━━━━━━━━\u001b[0m\u001b[37m\u001b[0m \u001b[1m3s\u001b[0m 1ms/step - accuracy: 0.9616 - loss: 0.1193 - val_accuracy: 0.8894 - val_loss: 0.3587 - learning_rate: 6.2500e-04\n",
      "Epoch 34/100\n",
      "\u001b[1m1719/1719\u001b[0m \u001b[32m━━━━━━━━━━━━━━━━━━━━\u001b[0m\u001b[37m\u001b[0m \u001b[1m2s\u001b[0m 1ms/step - accuracy: 0.9618 - loss: 0.1185 - val_accuracy: 0.8892 - val_loss: 0.3581 - learning_rate: 3.1250e-04\n",
      "Epoch 35/100\n",
      "\u001b[1m1719/1719\u001b[0m \u001b[32m━━━━━━━━━━━━━━━━━━━━\u001b[0m\u001b[37m\u001b[0m \u001b[1m2s\u001b[0m 1ms/step - accuracy: 0.9621 - loss: 0.1178 - val_accuracy: 0.8892 - val_loss: 0.3585 - learning_rate: 3.1250e-04\n",
      "Epoch 36/100\n",
      "\u001b[1m1719/1719\u001b[0m \u001b[32m━━━━━━━━━━━━━━━━━━━━\u001b[0m\u001b[37m\u001b[0m \u001b[1m3s\u001b[0m 1ms/step - accuracy: 0.9621 - loss: 0.1173 - val_accuracy: 0.8894 - val_loss: 0.3588 - learning_rate: 3.1250e-04\n",
      "Epoch 37/100\n",
      "\u001b[1m1719/1719\u001b[0m \u001b[32m━━━━━━━━━━━━━━━━━━━━\u001b[0m\u001b[37m\u001b[0m \u001b[1m3s\u001b[0m 1ms/step - accuracy: 0.9623 - loss: 0.1170 - val_accuracy: 0.8894 - val_loss: 0.3591 - learning_rate: 3.1250e-04\n",
      "Epoch 38/100\n",
      "\u001b[1m1719/1719\u001b[0m \u001b[32m━━━━━━━━━━━━━━━━━━━━\u001b[0m\u001b[37m\u001b[0m \u001b[1m2s\u001b[0m 1ms/step - accuracy: 0.9624 - loss: 0.1166 - val_accuracy: 0.8892 - val_loss: 0.3594 - learning_rate: 3.1250e-04\n",
      "Epoch 39/100\n",
      "\u001b[1m1719/1719\u001b[0m \u001b[32m━━━━━━━━━━━━━━━━━━━━\u001b[0m\u001b[37m\u001b[0m \u001b[1m3s\u001b[0m 1ms/step - accuracy: 0.9627 - loss: 0.1162 - val_accuracy: 0.8882 - val_loss: 0.3594 - learning_rate: 1.5625e-04\n",
      "Epoch 40/100\n",
      "\u001b[1m1719/1719\u001b[0m \u001b[32m━━━━━━━━━━━━━━━━━━━━\u001b[0m\u001b[37m\u001b[0m \u001b[1m2s\u001b[0m 1ms/step - accuracy: 0.9629 - loss: 0.1158 - val_accuracy: 0.8882 - val_loss: 0.3596 - learning_rate: 1.5625e-04\n",
      "Epoch 41/100\n",
      "\u001b[1m1719/1719\u001b[0m \u001b[32m━━━━━━━━━━━━━━━━━━━━\u001b[0m\u001b[37m\u001b[0m \u001b[1m3s\u001b[0m 1ms/step - accuracy: 0.9630 - loss: 0.1156 - val_accuracy: 0.8886 - val_loss: 0.3597 - learning_rate: 1.5625e-04\n",
      "Epoch 42/100\n",
      "\u001b[1m1719/1719\u001b[0m \u001b[32m━━━━━━━━━━━━━━━━━━━━\u001b[0m\u001b[37m\u001b[0m \u001b[1m2s\u001b[0m 1ms/step - accuracy: 0.9631 - loss: 0.1154 - val_accuracy: 0.8886 - val_loss: 0.3599 - learning_rate: 1.5625e-04\n",
      "Epoch 43/100\n",
      "\u001b[1m1719/1719\u001b[0m \u001b[32m━━━━━━━━━━━━━━━━━━━━\u001b[0m\u001b[37m\u001b[0m \u001b[1m2s\u001b[0m 1ms/step - accuracy: 0.9632 - loss: 0.1152 - val_accuracy: 0.8886 - val_loss: 0.3601 - learning_rate: 1.5625e-04\n",
      "Epoch 44/100\n",
      "\u001b[1m1719/1719\u001b[0m \u001b[32m━━━━━━━━━━━━━━━━━━━━\u001b[0m\u001b[37m\u001b[0m \u001b[1m3s\u001b[0m 2ms/step - accuracy: 0.9633 - loss: 0.1150 - val_accuracy: 0.8894 - val_loss: 0.3602 - learning_rate: 7.8125e-05\n",
      "Epoch 45/100\n",
      "\u001b[1m1719/1719\u001b[0m \u001b[32m━━━━━━━━━━━━━━━━━━━━\u001b[0m\u001b[37m\u001b[0m \u001b[1m2s\u001b[0m 1ms/step - accuracy: 0.9629 - loss: 0.1148 - val_accuracy: 0.8894 - val_loss: 0.3603 - learning_rate: 7.8125e-05\n",
      "Epoch 46/100\n",
      "\u001b[1m1719/1719\u001b[0m \u001b[32m━━━━━━━━━━━━━━━━━━━━\u001b[0m\u001b[37m\u001b[0m \u001b[1m2s\u001b[0m 1ms/step - accuracy: 0.9629 - loss: 0.1147 - val_accuracy: 0.8894 - val_loss: 0.3604 - learning_rate: 7.8125e-05\n",
      "Epoch 47/100\n",
      "\u001b[1m1719/1719\u001b[0m \u001b[32m━━━━━━━━━━━━━━━━━━━━\u001b[0m\u001b[37m\u001b[0m \u001b[1m2s\u001b[0m 1ms/step - accuracy: 0.9630 - loss: 0.1146 - val_accuracy: 0.8894 - val_loss: 0.3605 - learning_rate: 7.8125e-05\n",
      "Epoch 48/100\n",
      "\u001b[1m1719/1719\u001b[0m \u001b[32m━━━━━━━━━━━━━━━━━━━━\u001b[0m\u001b[37m\u001b[0m \u001b[1m2s\u001b[0m 1ms/step - accuracy: 0.9630 - loss: 0.1145 - val_accuracy: 0.8894 - val_loss: 0.3606 - learning_rate: 7.8125e-05\n",
      "Epoch 49/100\n",
      "\u001b[1m1719/1719\u001b[0m \u001b[32m━━━━━━━━━━━━━━━━━━━━\u001b[0m\u001b[37m\u001b[0m \u001b[1m2s\u001b[0m 1ms/step - accuracy: 0.9630 - loss: 0.1144 - val_accuracy: 0.8892 - val_loss: 0.3607 - learning_rate: 3.9062e-05\n",
      "Epoch 50/100\n",
      "\u001b[1m1719/1719\u001b[0m \u001b[32m━━━━━━━━━━━━━━━━━━━━\u001b[0m\u001b[37m\u001b[0m \u001b[1m3s\u001b[0m 2ms/step - accuracy: 0.9630 - loss: 0.1143 - val_accuracy: 0.8892 - val_loss: 0.3607 - learning_rate: 3.9062e-05\n",
      "Epoch 51/100\n",
      "\u001b[1m1719/1719\u001b[0m \u001b[32m━━━━━━━━━━━━━━━━━━━━\u001b[0m\u001b[37m\u001b[0m \u001b[1m5s\u001b[0m 1ms/step - accuracy: 0.9631 - loss: 0.1142 - val_accuracy: 0.8892 - val_loss: 0.3608 - learning_rate: 3.9062e-05\n",
      "Epoch 52/100\n",
      "\u001b[1m1719/1719\u001b[0m \u001b[32m━━━━━━━━━━━━━━━━━━━━\u001b[0m\u001b[37m\u001b[0m \u001b[1m3s\u001b[0m 1ms/step - accuracy: 0.9631 - loss: 0.1142 - val_accuracy: 0.8892 - val_loss: 0.3608 - learning_rate: 3.9062e-05\n",
      "Epoch 53/100\n",
      "\u001b[1m1719/1719\u001b[0m \u001b[32m━━━━━━━━━━━━━━━━━━━━\u001b[0m\u001b[37m\u001b[0m \u001b[1m3s\u001b[0m 1ms/step - accuracy: 0.9631 - loss: 0.1141 - val_accuracy: 0.8892 - val_loss: 0.3609 - learning_rate: 3.9062e-05\n",
      "Epoch 54/100\n",
      "\u001b[1m1719/1719\u001b[0m \u001b[32m━━━━━━━━━━━━━━━━━━━━\u001b[0m\u001b[37m\u001b[0m \u001b[1m5s\u001b[0m 1ms/step - accuracy: 0.9632 - loss: 0.1141 - val_accuracy: 0.8892 - val_loss: 0.3609 - learning_rate: 1.9531e-05\n",
      "Epoch 55/100\n",
      "\u001b[1m1719/1719\u001b[0m \u001b[32m━━━━━━━━━━━━━━━━━━━━\u001b[0m\u001b[37m\u001b[0m \u001b[1m2s\u001b[0m 1ms/step - accuracy: 0.9634 - loss: 0.1140 - val_accuracy: 0.8892 - val_loss: 0.3609 - learning_rate: 1.9531e-05\n",
      "Epoch 56/100\n",
      "\u001b[1m1719/1719\u001b[0m \u001b[32m━━━━━━━━━━━━━━━━━━━━\u001b[0m\u001b[37m\u001b[0m \u001b[1m2s\u001b[0m 1ms/step - accuracy: 0.9634 - loss: 0.1140 - val_accuracy: 0.8890 - val_loss: 0.3610 - learning_rate: 1.9531e-05\n",
      "Epoch 57/100\n",
      "\u001b[1m1719/1719\u001b[0m \u001b[32m━━━━━━━━━━━━━━━━━━━━\u001b[0m\u001b[37m\u001b[0m \u001b[1m2s\u001b[0m 1ms/step - accuracy: 0.9634 - loss: 0.1140 - val_accuracy: 0.8890 - val_loss: 0.3610 - learning_rate: 1.9531e-05\n",
      "Epoch 58/100\n",
      "\u001b[1m1719/1719\u001b[0m \u001b[32m━━━━━━━━━━━━━━━━━━━━\u001b[0m\u001b[37m\u001b[0m \u001b[1m3s\u001b[0m 1ms/step - accuracy: 0.9634 - loss: 0.1139 - val_accuracy: 0.8890 - val_loss: 0.3610 - learning_rate: 1.9531e-05\n",
      "Epoch 59/100\n",
      "\u001b[1m1719/1719\u001b[0m \u001b[32m━━━━━━━━━━━━━━━━━━━━\u001b[0m\u001b[37m\u001b[0m \u001b[1m2s\u001b[0m 1ms/step - accuracy: 0.9633 - loss: 0.1139 - val_accuracy: 0.8892 - val_loss: 0.3610 - learning_rate: 9.7656e-06\n",
      "Epoch 60/100\n",
      "\u001b[1m1719/1719\u001b[0m \u001b[32m━━━━━━━━━━━━━━━━━━━━\u001b[0m\u001b[37m\u001b[0m \u001b[1m2s\u001b[0m 1ms/step - accuracy: 0.9634 - loss: 0.1139 - val_accuracy: 0.8894 - val_loss: 0.3611 - learning_rate: 9.7656e-06\n",
      "Epoch 61/100\n",
      "\u001b[1m1719/1719\u001b[0m \u001b[32m━━━━━━━━━━━━━━━━━━━━\u001b[0m\u001b[37m\u001b[0m \u001b[1m2s\u001b[0m 1ms/step - accuracy: 0.9635 - loss: 0.1139 - val_accuracy: 0.8894 - val_loss: 0.3611 - learning_rate: 9.7656e-06\n",
      "Epoch 62/100\n",
      "\u001b[1m1719/1719\u001b[0m \u001b[32m━━━━━━━━━━━━━━━━━━━━\u001b[0m\u001b[37m\u001b[0m \u001b[1m2s\u001b[0m 1ms/step - accuracy: 0.9635 - loss: 0.1139 - val_accuracy: 0.8894 - val_loss: 0.3611 - learning_rate: 9.7656e-06\n",
      "Epoch 63/100\n",
      "\u001b[1m1719/1719\u001b[0m \u001b[32m━━━━━━━━━━━━━━━━━━━━\u001b[0m\u001b[37m\u001b[0m \u001b[1m2s\u001b[0m 1ms/step - accuracy: 0.9635 - loss: 0.1138 - val_accuracy: 0.8894 - val_loss: 0.3611 - learning_rate: 9.7656e-06\n",
      "Epoch 64/100\n",
      "\u001b[1m1719/1719\u001b[0m \u001b[32m━━━━━━━━━━━━━━━━━━━━\u001b[0m\u001b[37m\u001b[0m \u001b[1m3s\u001b[0m 1ms/step - accuracy: 0.9635 - loss: 0.1138 - val_accuracy: 0.8894 - val_loss: 0.3611 - learning_rate: 4.8828e-06\n",
      "Epoch 65/100\n",
      "\u001b[1m1719/1719\u001b[0m \u001b[32m━━━━━━━━━━━━━━━━━━━━\u001b[0m\u001b[37m\u001b[0m \u001b[1m2s\u001b[0m 1ms/step - accuracy: 0.9635 - loss: 0.1138 - val_accuracy: 0.8894 - val_loss: 0.3611 - learning_rate: 4.8828e-06\n",
      "Epoch 66/100\n",
      "\u001b[1m1719/1719\u001b[0m \u001b[32m━━━━━━━━━━━━━━━━━━━━\u001b[0m\u001b[37m\u001b[0m \u001b[1m2s\u001b[0m 1ms/step - accuracy: 0.9635 - loss: 0.1138 - val_accuracy: 0.8894 - val_loss: 0.3611 - learning_rate: 4.8828e-06\n",
      "Epoch 67/100\n",
      "\u001b[1m1719/1719\u001b[0m \u001b[32m━━━━━━━━━━━━━━━━━━━━\u001b[0m\u001b[37m\u001b[0m \u001b[1m3s\u001b[0m 1ms/step - accuracy: 0.9635 - loss: 0.1138 - val_accuracy: 0.8894 - val_loss: 0.3611 - learning_rate: 4.8828e-06\n",
      "Epoch 68/100\n",
      "\u001b[1m1719/1719\u001b[0m \u001b[32m━━━━━━━━━━━━━━━━━━━━\u001b[0m\u001b[37m\u001b[0m \u001b[1m2s\u001b[0m 1ms/step - accuracy: 0.9635 - loss: 0.1138 - val_accuracy: 0.8894 - val_loss: 0.3611 - learning_rate: 4.8828e-06\n",
      "Epoch 69/100\n",
      "\u001b[1m1719/1719\u001b[0m \u001b[32m━━━━━━━━━━━━━━━━━━━━\u001b[0m\u001b[37m\u001b[0m \u001b[1m2s\u001b[0m 1ms/step - accuracy: 0.9635 - loss: 0.1138 - val_accuracy: 0.8894 - val_loss: 0.3611 - learning_rate: 2.4414e-06\n",
      "Epoch 70/100\n",
      "\u001b[1m1719/1719\u001b[0m \u001b[32m━━━━━━━━━━━━━━━━━━━━\u001b[0m\u001b[37m\u001b[0m \u001b[1m3s\u001b[0m 1ms/step - accuracy: 0.9635 - loss: 0.1138 - val_accuracy: 0.8894 - val_loss: 0.3611 - learning_rate: 2.4414e-06\n",
      "Epoch 71/100\n",
      "\u001b[1m1719/1719\u001b[0m \u001b[32m━━━━━━━━━━━━━━━━━━━━\u001b[0m\u001b[37m\u001b[0m \u001b[1m2s\u001b[0m 1ms/step - accuracy: 0.9635 - loss: 0.1138 - val_accuracy: 0.8894 - val_loss: 0.3611 - learning_rate: 2.4414e-06\n",
      "Epoch 72/100\n",
      "\u001b[1m1719/1719\u001b[0m \u001b[32m━━━━━━━━━━━━━━━━━━━━\u001b[0m\u001b[37m\u001b[0m \u001b[1m2s\u001b[0m 1ms/step - accuracy: 0.9635 - loss: 0.1138 - val_accuracy: 0.8894 - val_loss: 0.3612 - learning_rate: 2.4414e-06\n",
      "Epoch 73/100\n",
      "\u001b[1m1719/1719\u001b[0m \u001b[32m━━━━━━━━━━━━━━━━━━━━\u001b[0m\u001b[37m\u001b[0m \u001b[1m3s\u001b[0m 1ms/step - accuracy: 0.9635 - loss: 0.1138 - val_accuracy: 0.8894 - val_loss: 0.3612 - learning_rate: 2.4414e-06\n",
      "Epoch 74/100\n",
      "\u001b[1m1719/1719\u001b[0m \u001b[32m━━━━━━━━━━━━━━━━━━━━\u001b[0m\u001b[37m\u001b[0m \u001b[1m2s\u001b[0m 1ms/step - accuracy: 0.9635 - loss: 0.1138 - val_accuracy: 0.8894 - val_loss: 0.3612 - learning_rate: 1.2207e-06\n",
      "Epoch 75/100\n",
      "\u001b[1m1719/1719\u001b[0m \u001b[32m━━━━━━━━━━━━━━━━━━━━\u001b[0m\u001b[37m\u001b[0m \u001b[1m3s\u001b[0m 1ms/step - accuracy: 0.9635 - loss: 0.1138 - val_accuracy: 0.8894 - val_loss: 0.3612 - learning_rate: 1.2207e-06\n",
      "Epoch 76/100\n",
      "\u001b[1m1719/1719\u001b[0m \u001b[32m━━━━━━━━━━━━━━━━━━━━\u001b[0m\u001b[37m\u001b[0m \u001b[1m2s\u001b[0m 1ms/step - accuracy: 0.9635 - loss: 0.1137 - val_accuracy: 0.8894 - val_loss: 0.3612 - learning_rate: 1.2207e-06\n",
      "Epoch 77/100\n",
      "\u001b[1m1719/1719\u001b[0m \u001b[32m━━━━━━━━━━━━━━━━━━━━\u001b[0m\u001b[37m\u001b[0m \u001b[1m3s\u001b[0m 1ms/step - accuracy: 0.9635 - loss: 0.1137 - val_accuracy: 0.8894 - val_loss: 0.3612 - learning_rate: 1.2207e-06\n",
      "Epoch 78/100\n",
      "\u001b[1m1719/1719\u001b[0m \u001b[32m━━━━━━━━━━━━━━━━━━━━\u001b[0m\u001b[37m\u001b[0m \u001b[1m2s\u001b[0m 1ms/step - accuracy: 0.9635 - loss: 0.1137 - val_accuracy: 0.8894 - val_loss: 0.3612 - learning_rate: 1.2207e-06\n",
      "Epoch 79/100\n",
      "\u001b[1m1719/1719\u001b[0m \u001b[32m━━━━━━━━━━━━━━━━━━━━\u001b[0m\u001b[37m\u001b[0m \u001b[1m3s\u001b[0m 1ms/step - accuracy: 0.9635 - loss: 0.1137 - val_accuracy: 0.8894 - val_loss: 0.3612 - learning_rate: 6.1035e-07\n",
      "Epoch 80/100\n",
      "\u001b[1m1719/1719\u001b[0m \u001b[32m━━━━━━━━━━━━━━━━━━━━\u001b[0m\u001b[37m\u001b[0m \u001b[1m2s\u001b[0m 1ms/step - accuracy: 0.9635 - loss: 0.1137 - val_accuracy: 0.8894 - val_loss: 0.3612 - learning_rate: 6.1035e-07\n",
      "Epoch 81/100\n",
      "\u001b[1m1719/1719\u001b[0m \u001b[32m━━━━━━━━━━━━━━━━━━━━\u001b[0m\u001b[37m\u001b[0m \u001b[1m3s\u001b[0m 1ms/step - accuracy: 0.9635 - loss: 0.1137 - val_accuracy: 0.8894 - val_loss: 0.3612 - learning_rate: 6.1035e-07\n",
      "Epoch 82/100\n",
      "\u001b[1m1719/1719\u001b[0m \u001b[32m━━━━━━━━━━━━━━━━━━━━\u001b[0m\u001b[37m\u001b[0m \u001b[1m2s\u001b[0m 1ms/step - accuracy: 0.9635 - loss: 0.1137 - val_accuracy: 0.8894 - val_loss: 0.3612 - learning_rate: 6.1035e-07\n",
      "Epoch 83/100\n",
      "\u001b[1m1719/1719\u001b[0m \u001b[32m━━━━━━━━━━━━━━━━━━━━\u001b[0m\u001b[37m\u001b[0m \u001b[1m3s\u001b[0m 1ms/step - accuracy: 0.9635 - loss: 0.1137 - val_accuracy: 0.8894 - val_loss: 0.3612 - learning_rate: 6.1035e-07\n",
      "Epoch 84/100\n",
      "\u001b[1m1719/1719\u001b[0m \u001b[32m━━━━━━━━━━━━━━━━━━━━\u001b[0m\u001b[37m\u001b[0m \u001b[1m2s\u001b[0m 1ms/step - accuracy: 0.9635 - loss: 0.1137 - val_accuracy: 0.8894 - val_loss: 0.3612 - learning_rate: 3.0518e-07\n",
      "Epoch 85/100\n",
      "\u001b[1m1719/1719\u001b[0m \u001b[32m━━━━━━━━━━━━━━━━━━━━\u001b[0m\u001b[37m\u001b[0m \u001b[1m3s\u001b[0m 1ms/step - accuracy: 0.9635 - loss: 0.1137 - val_accuracy: 0.8894 - val_loss: 0.3612 - learning_rate: 3.0518e-07\n",
      "Epoch 86/100\n",
      "\u001b[1m1719/1719\u001b[0m \u001b[32m━━━━━━━━━━━━━━━━━━━━\u001b[0m\u001b[37m\u001b[0m \u001b[1m5s\u001b[0m 1ms/step - accuracy: 0.9635 - loss: 0.1137 - val_accuracy: 0.8894 - val_loss: 0.3612 - learning_rate: 3.0518e-07\n",
      "Epoch 87/100\n",
      "\u001b[1m1719/1719\u001b[0m \u001b[32m━━━━━━━━━━━━━━━━━━━━\u001b[0m\u001b[37m\u001b[0m \u001b[1m3s\u001b[0m 1ms/step - accuracy: 0.9635 - loss: 0.1137 - val_accuracy: 0.8894 - val_loss: 0.3612 - learning_rate: 3.0518e-07\n",
      "Epoch 88/100\n",
      "\u001b[1m1719/1719\u001b[0m \u001b[32m━━━━━━━━━━━━━━━━━━━━\u001b[0m\u001b[37m\u001b[0m \u001b[1m3s\u001b[0m 1ms/step - accuracy: 0.9635 - loss: 0.1137 - val_accuracy: 0.8894 - val_loss: 0.3612 - learning_rate: 3.0518e-07\n",
      "Epoch 89/100\n",
      "\u001b[1m1719/1719\u001b[0m \u001b[32m━━━━━━━━━━━━━━━━━━━━\u001b[0m\u001b[37m\u001b[0m \u001b[1m2s\u001b[0m 1ms/step - accuracy: 0.9635 - loss: 0.1137 - val_accuracy: 0.8894 - val_loss: 0.3612 - learning_rate: 1.5259e-07\n",
      "Epoch 90/100\n",
      "\u001b[1m1719/1719\u001b[0m \u001b[32m━━━━━━━━━━━━━━━━━━━━\u001b[0m\u001b[37m\u001b[0m \u001b[1m2s\u001b[0m 1ms/step - accuracy: 0.9635 - loss: 0.1137 - val_accuracy: 0.8894 - val_loss: 0.3612 - learning_rate: 1.5259e-07\n",
      "Epoch 91/100\n",
      "\u001b[1m1719/1719\u001b[0m \u001b[32m━━━━━━━━━━━━━━━━━━━━\u001b[0m\u001b[37m\u001b[0m \u001b[1m2s\u001b[0m 1ms/step - accuracy: 0.9635 - loss: 0.1137 - val_accuracy: 0.8894 - val_loss: 0.3612 - learning_rate: 1.5259e-07\n",
      "Epoch 92/100\n",
      "\u001b[1m1719/1719\u001b[0m \u001b[32m━━━━━━━━━━━━━━━━━━━━\u001b[0m\u001b[37m\u001b[0m \u001b[1m3s\u001b[0m 1ms/step - accuracy: 0.9635 - loss: 0.1137 - val_accuracy: 0.8894 - val_loss: 0.3612 - learning_rate: 1.5259e-07\n",
      "Epoch 93/100\n",
      "\u001b[1m1719/1719\u001b[0m \u001b[32m━━━━━━━━━━━━━━━━━━━━\u001b[0m\u001b[37m\u001b[0m \u001b[1m2s\u001b[0m 1ms/step - accuracy: 0.9635 - loss: 0.1137 - val_accuracy: 0.8894 - val_loss: 0.3612 - learning_rate: 1.5259e-07\n",
      "Epoch 94/100\n",
      "\u001b[1m1719/1719\u001b[0m \u001b[32m━━━━━━━━━━━━━━━━━━━━\u001b[0m\u001b[37m\u001b[0m \u001b[1m3s\u001b[0m 1ms/step - accuracy: 0.9635 - loss: 0.1137 - val_accuracy: 0.8894 - val_loss: 0.3612 - learning_rate: 7.6294e-08\n",
      "Epoch 95/100\n",
      "\u001b[1m1719/1719\u001b[0m \u001b[32m━━━━━━━━━━━━━━━━━━━━\u001b[0m\u001b[37m\u001b[0m \u001b[1m2s\u001b[0m 1ms/step - accuracy: 0.9635 - loss: 0.1137 - val_accuracy: 0.8894 - val_loss: 0.3612 - learning_rate: 7.6294e-08\n",
      "Epoch 96/100\n",
      "\u001b[1m1719/1719\u001b[0m \u001b[32m━━━━━━━━━━━━━━━━━━━━\u001b[0m\u001b[37m\u001b[0m \u001b[1m3s\u001b[0m 1ms/step - accuracy: 0.9635 - loss: 0.1137 - val_accuracy: 0.8894 - val_loss: 0.3612 - learning_rate: 7.6294e-08\n",
      "Epoch 97/100\n",
      "\u001b[1m1719/1719\u001b[0m \u001b[32m━━━━━━━━━━━━━━━━━━━━\u001b[0m\u001b[37m\u001b[0m \u001b[1m2s\u001b[0m 1ms/step - accuracy: 0.9635 - loss: 0.1137 - val_accuracy: 0.8894 - val_loss: 0.3612 - learning_rate: 7.6294e-08\n",
      "Epoch 98/100\n",
      "\u001b[1m1719/1719\u001b[0m \u001b[32m━━━━━━━━━━━━━━━━━━━━\u001b[0m\u001b[37m\u001b[0m \u001b[1m3s\u001b[0m 1ms/step - accuracy: 0.9635 - loss: 0.1137 - val_accuracy: 0.8894 - val_loss: 0.3612 - learning_rate: 7.6294e-08\n",
      "Epoch 99/100\n",
      "\u001b[1m1719/1719\u001b[0m \u001b[32m━━━━━━━━━━━━━━━━━━━━\u001b[0m\u001b[37m\u001b[0m \u001b[1m3s\u001b[0m 1ms/step - accuracy: 0.9635 - loss: 0.1137 - val_accuracy: 0.8894 - val_loss: 0.3612 - learning_rate: 3.8147e-08\n",
      "Epoch 100/100\n",
      "\u001b[1m1719/1719\u001b[0m \u001b[32m━━━━━━━━━━━━━━━━━━━━\u001b[0m\u001b[37m\u001b[0m \u001b[1m2s\u001b[0m 1ms/step - accuracy: 0.9635 - loss: 0.1137 - val_accuracy: 0.8894 - val_loss: 0.3612 - learning_rate: 3.8147e-08\n"
     ]
    }
   ],
   "source": [
    "lr0 = 0.01\n",
    "\n",
    "tf.random.set_seed(2024)\n",
    "model = tf.keras.Sequential([\n",
    "    tf.keras.layers.Flatten(input_shape=[28, 28]),\n",
    "    tf.keras.layers.Dense(100, activation=\"relu\", kernel_initializer=\"he_normal\"),\n",
    "    tf.keras.layers.Dense(100, activation=\"relu\", kernel_initializer=\"he_normal\"),\n",
    "    tf.keras.layers.Dense(100, activation=\"relu\", kernel_initializer=\"he_normal\"),\n",
    "    tf.keras.layers.Dense(10, activation=\"softmax\")    \n",
    "])\n",
    "\n",
    "optimizer = tf.keras.optimizers.SGD(learning_rate=lr0)\n",
    "\n",
    "model.compile(\n",
    "    loss=\"sparse_categorical_crossentropy\",\n",
    "    optimizer= optimizer,\n",
    "    metrics = [\"accuracy\"]\n",
    ")\n",
    "\n",
    "lr_schedule = tf.keras.callbacks.ReduceLROnPlateau(factor=0.5, patience=5)\n",
    "\n",
    "history = model.fit(\n",
    "    X_train_scaled, y_train, epochs=100,\n",
    "    validation_data = (X_valid_scaled, y_valid),\n",
    "    callbacks = [lr_schedule]\n",
    ")"
   ]
  },
  {
   "cell_type": "code",
   "execution_count": 17,
   "metadata": {},
   "outputs": [
    {
     "data": {
      "text/plain": [
       "<Axes: >"
      ]
     },
     "execution_count": 17,
     "metadata": {},
     "output_type": "execute_result"
    },
    {
     "data": {
      "image/png": "[encoded data removed]",
      "text/plain": [
       "<Figure size 640x480 with 1 Axes>"
      ]
     },
     "metadata": {},
     "output_type": "display_data"
    }
   ],
   "source": [
    "pd.DataFrame(history.history).plot()"
   ]
  },
  {
   "cell_type": "code",
   "execution_count": 19,
   "metadata": {},
   "outputs": [
    {
     "data": {
      "text/plain": [
       "<Axes: >"
      ]
     },
     "execution_count": 19,
     "metadata": {},
     "output_type": "execute_result"
    },
    {
     "data": {
      "image/png": "[encoded data removed]",
      "text/plain": [
       "<Figure size 640x480 with 1 Axes>"
      ]
     },
     "metadata": {},
     "output_type": "display_data"
    }
   ],
   "source": [
    "pd.DataFrame(history.history)['learning_rate'].plot()"
   ]
  },
  {
   "cell_type": "markdown",
   "metadata": {},
   "source": [
    "# Avoiding overfitting"
   ]
  },
  {
   "cell_type": "markdown",
   "metadata": {},
   "source": [
    "## l1 or l2 regularization"
   ]
  },
  {
   "cell_type": "code",
   "execution_count": null,
   "metadata": {},
   "outputs": [],
   "source": [
    "lr0 = 0.01\n",
    "\n",
    "tf.random.set_seed(2024)\n",
    "model = tf.keras.Sequential([\n",
    "    tf.keras.layers.Flatten(input_shape=[28, 28]),\n",
    "    tf.keras.layers.Dense(100, activation=\"relu\", kernel_initializer=\"he_normal\",\n",
    "                          kernel_regularization=tf.keras.regularizers.l1_l2(0.1, 0.01)),\n",
    "    tf.keras.layers.Dense(100, activation=\"relu\", kernel_initializer=\"he_normal\",\n",
    "                          kernel_regularization=tf.keras.regularizers.l1_l2(0.1, 0.01)),\n",
    "    tf.keras.layers.Dense(100, activation=\"relu\", kernel_initializer=\"he_normal\",\n",
    "                          kernel_regularization=tf.keras.regularizers.l1_l2(0.1, 0.01)),\n",
    "    tf.keras.layers.Dense(10, activation=\"softmax\")    \n",
    "])\n",
    "\n",
    "optimizer = tf.keras.optimizers.SGD(learning_rate=lr0)\n",
    "\n",
    "model.compile(\n",
    "    loss=\"sparse_categorical_crossentropy\",\n",
    "    optimizer= optimizer,\n",
    "    metrics = [\"accuracy\"]\n",
    ")\n",
    "\n",
    "lr_schedule = tf.keras.callbacks.ReduceLROnPlateau(factor=0.5, patience=5)\n",
    "\n",
    "history = model.fit(\n",
    "    X_train_scaled, y_train, epochs=100,\n",
    "    validation_data = (X_valid_scaled, y_valid),\n",
    "    callbacks = [lr_schedule]\n",
    ")"
   ]
  },
  {
   "cell_type": "markdown",
   "metadata": {},
   "source": [
    "## Dropout"
   ]
  },
  {
   "cell_type": "code",
   "execution_count": null,
   "metadata": {},
   "outputs": [],
   "source": [
    "model = tf.keras.Sequential([\n",
    "    tf.keras.layers.Flatten(input_shape=[28, 28]),\n",
    "    tf.keras.layers.Dense(100, activation=\"relu\", kernel_initializer=\"he_normal\"),\n",
    "    tf.keras.layers.Dropout(rate=0.15),\n",
    "    tf.keras.layers.Dense(100, activation=\"relu\", kernel_initializer=\"he_normal\"),\n",
    "    tf.keras.layers.Dropout(rate=0.15),\n",
    "    tf.keras.layers.Dense(100, activation=\"relu\", kernel_initializer=\"he_normal\"),\n",
    "    tf.keras.layers.Dropout(rate=0.15),\n",
    "    tf.keras.layers.Dense(10, activation=\"softmax\")    \n",
    "])"
   ]
  }
 ],
 "metadata": {
  "kernelspec": {
   "display_name": "Python 3",
   "language": "python",
   "name": "python3"
  },
  "language_info": {
   "codemirror_mode": {
    "name": "ipython",
    "version": 3
   },
   "file_extension": ".py",
   "mimetype": "text/x-python",
   "name": "python",
   "nbconvert_exporter": "python",
   "pygments_lexer": "ipython3",
   "version": "3.10.13"
  }
 },
 "nbformat": 4,
 "nbformat_minor": 2
}
