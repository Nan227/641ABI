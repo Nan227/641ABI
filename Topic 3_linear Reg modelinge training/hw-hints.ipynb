{
 "cells": [
  {
   "cell_type": "code",
   "execution_count": 1,
   "metadata": {},
   "outputs": [],
   "source": [
    "import numpy as np\n"
   ]
  },
  {
   "cell_type": "code",
   "execution_count": 2,
   "metadata": {},
   "outputs": [],
   "source": [
    "n = 100 \n",
    "\n",
    "shuffled_indices = np.random.permutation(n)"
   ]
  },
  {
   "cell_type": "code",
   "execution_count": 3,
   "metadata": {},
   "outputs": [
    {
     "data": {
      "text/plain": [
       "array([41, 31,  7, 23, 36, 60, 43, 81, 57, 83, 80, 50, 16, 67, 37, 21, 53,\n",
       "       42, 75, 89,  9, 51, 32, 25, 45, 71, 22, 33,  5, 40, 61, 87, 30, 82,\n",
       "       77, 39, 49, 17,  3, 28, 20, 93, 48,  2, 27, 62, 59, 38, 97, 14, 55,\n",
       "       85, 64, 24, 47, 11, 90, 66, 86, 65, 84,  1, 73, 29, 19, 72, 44, 34,\n",
       "       88, 58, 18, 63, 10, 94, 78, 76,  0, 69, 12, 13, 98, 56, 68, 95, 70,\n",
       "       91, 54, 35, 79, 52, 46, 15, 96, 99, 92,  6,  8,  4, 26, 74])"
      ]
     },
     "execution_count": 3,
     "metadata": {},
     "output_type": "execute_result"
    }
   ],
   "source": [
    "shuffled_indices"
   ]
  },
  {
   "cell_type": "code",
   "execution_count": 4,
   "metadata": {},
   "outputs": [],
   "source": [
    "test_indices = shuffled_indices[20:40]\n",
    "train_indices = shuffled_indices[]"
   ]
  },
  {
   "cell_type": "code",
   "execution_count": 5,
   "metadata": {},
   "outputs": [
    {
     "data": {
      "text/plain": [
       "array([41, 31,  7, 23, 36, 60, 43, 81, 57, 83, 80, 50, 16, 67, 37, 21, 53,\n",
       "       42, 75, 89])"
      ]
     },
     "execution_count": 5,
     "metadata": {},
     "output_type": "execute_result"
    }
   ],
   "source": [
    "test_indices"
   ]
  },
  {
   "cell_type": "code",
   "execution_count": 6,
   "metadata": {},
   "outputs": [
    {
     "data": {
      "text/plain": [
       "array([ 9, 51, 32, 25, 45, 71, 22, 33,  5, 40, 61, 87, 30, 82, 77, 39, 49,\n",
       "       17,  3, 28, 20, 93, 48,  2, 27, 62, 59, 38, 97, 14, 55, 85, 64, 24,\n",
       "       47, 11, 90, 66, 86, 65, 84,  1, 73, 29, 19, 72, 44, 34, 88, 58, 18,\n",
       "       63, 10, 94, 78, 76,  0, 69, 12, 13, 98, 56, 68, 95, 70, 91, 54, 35,\n",
       "       79, 52, 46, 15, 96, 99, 92,  6,  8,  4, 26, 74])"
      ]
     },
     "execution_count": 6,
     "metadata": {},
     "output_type": "execute_result"
    }
   ],
   "source": [
    "train_indices"
   ]
  },
  {
   "cell_type": "code",
   "execution_count": null,
   "metadata": {},
   "outputs": [],
   "source": []
  }
 ],
 "metadata": {
  "kernelspec": {
   "display_name": "Python 3",
   "language": "python",
   "name": "python3"
  },
  "language_info": {
   "codemirror_mode": {
    "name": "ipython",
    "version": 3
   },
   "file_extension": ".py",
   "mimetype": "text/x-python",
   "name": "python",
   "nbconvert_exporter": "python",
   "pygments_lexer": "ipython3",
   "version": "3.10.13"
  }
 },
 "nbformat": 4,
 "nbformat_minor": 2
}
